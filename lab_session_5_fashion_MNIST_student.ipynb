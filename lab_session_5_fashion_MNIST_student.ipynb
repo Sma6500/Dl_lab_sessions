{
  "nbformat": 4,
  "nbformat_minor": 0,
  "metadata": {
    "accelerator": "GPU",
    "colab": {
      "name": "lab-session-5-fashion-MNIST-student.ipynb",
      "provenance": [],
      "collapsed_sections": []
    },
    "kernelspec": {
      "display_name": "Python 3",
      "language": "python",
      "name": "python3"
    },
    "language_info": {
      "codemirror_mode": {
        "name": "ipython",
        "version": 3
      },
      "file_extension": ".py",
      "mimetype": "text/x-python",
      "name": "python",
      "nbconvert_exporter": "python",
      "pygments_lexer": "ipython3",
      "version": "3.7.9"
    },
    "widgets": {
      "application/vnd.jupyter.widget-state+json": {
        "2b6b77022abd45e8a2997b2ecebd3a14": {
          "model_module": "@jupyter-widgets/controls",
          "model_name": "HBoxModel",
          "model_module_version": "1.5.0",
          "state": {
            "_view_name": "HBoxView",
            "_dom_classes": [],
            "_model_name": "HBoxModel",
            "_view_module": "@jupyter-widgets/controls",
            "_model_module_version": "1.5.0",
            "_view_count": null,
            "_view_module_version": "1.5.0",
            "box_style": "",
            "layout": "IPY_MODEL_12d94ec77e2f49898cf2bc92c00cea59",
            "_model_module": "@jupyter-widgets/controls",
            "children": [
              "IPY_MODEL_dbcf547d433d4f448cc6d11c86819c5f",
              "IPY_MODEL_946bf7a304e949c883877f305f2f4841",
              "IPY_MODEL_f635e8b741274693890fb549e3b992ef"
            ]
          }
        },
        "12d94ec77e2f49898cf2bc92c00cea59": {
          "model_module": "@jupyter-widgets/base",
          "model_name": "LayoutModel",
          "model_module_version": "1.2.0",
          "state": {
            "_view_name": "LayoutView",
            "grid_template_rows": null,
            "right": null,
            "justify_content": null,
            "_view_module": "@jupyter-widgets/base",
            "overflow": null,
            "_model_module_version": "1.2.0",
            "_view_count": null,
            "flex_flow": null,
            "width": null,
            "min_width": null,
            "border": null,
            "align_items": null,
            "bottom": null,
            "_model_module": "@jupyter-widgets/base",
            "top": null,
            "grid_column": null,
            "overflow_y": null,
            "overflow_x": null,
            "grid_auto_flow": null,
            "grid_area": null,
            "grid_template_columns": null,
            "flex": null,
            "_model_name": "LayoutModel",
            "justify_items": null,
            "grid_row": null,
            "max_height": null,
            "align_content": null,
            "visibility": null,
            "align_self": null,
            "height": null,
            "min_height": null,
            "padding": null,
            "grid_auto_rows": null,
            "grid_gap": null,
            "max_width": null,
            "order": null,
            "_view_module_version": "1.2.0",
            "grid_template_areas": null,
            "object_position": null,
            "object_fit": null,
            "grid_auto_columns": null,
            "margin": null,
            "display": null,
            "left": null
          }
        },
        "dbcf547d433d4f448cc6d11c86819c5f": {
          "model_module": "@jupyter-widgets/controls",
          "model_name": "HTMLModel",
          "model_module_version": "1.5.0",
          "state": {
            "_view_name": "HTMLView",
            "style": "IPY_MODEL_d6d657fe61114cdfad86e0f6c1065323",
            "_dom_classes": [],
            "description": "",
            "_model_name": "HTMLModel",
            "placeholder": "​",
            "_view_module": "@jupyter-widgets/controls",
            "_model_module_version": "1.5.0",
            "value": "",
            "_view_count": null,
            "_view_module_version": "1.5.0",
            "description_tooltip": null,
            "_model_module": "@jupyter-widgets/controls",
            "layout": "IPY_MODEL_b781044a6ef740e98dd278fd08e4a748"
          }
        },
        "946bf7a304e949c883877f305f2f4841": {
          "model_module": "@jupyter-widgets/controls",
          "model_name": "FloatProgressModel",
          "model_module_version": "1.5.0",
          "state": {
            "_view_name": "ProgressView",
            "style": "IPY_MODEL_f3e2a6d5926f4379a419e85d904f13ee",
            "_dom_classes": [],
            "description": "",
            "_model_name": "FloatProgressModel",
            "bar_style": "success",
            "max": 26421880,
            "_view_module": "@jupyter-widgets/controls",
            "_model_module_version": "1.5.0",
            "value": 26421880,
            "_view_count": null,
            "_view_module_version": "1.5.0",
            "orientation": "horizontal",
            "min": 0,
            "description_tooltip": null,
            "_model_module": "@jupyter-widgets/controls",
            "layout": "IPY_MODEL_ea19ec8730514910b4ce99a7f5fd3264"
          }
        },
        "f635e8b741274693890fb549e3b992ef": {
          "model_module": "@jupyter-widgets/controls",
          "model_name": "HTMLModel",
          "model_module_version": "1.5.0",
          "state": {
            "_view_name": "HTMLView",
            "style": "IPY_MODEL_853bbf4fcdd8486bbf7d823966768055",
            "_dom_classes": [],
            "description": "",
            "_model_name": "HTMLModel",
            "placeholder": "​",
            "_view_module": "@jupyter-widgets/controls",
            "_model_module_version": "1.5.0",
            "value": " 26422272/? [00:01&lt;00:00, 21837692.28it/s]",
            "_view_count": null,
            "_view_module_version": "1.5.0",
            "description_tooltip": null,
            "_model_module": "@jupyter-widgets/controls",
            "layout": "IPY_MODEL_bbaebf0588f340babaa4d338904a5ffd"
          }
        },
        "d6d657fe61114cdfad86e0f6c1065323": {
          "model_module": "@jupyter-widgets/controls",
          "model_name": "DescriptionStyleModel",
          "model_module_version": "1.5.0",
          "state": {
            "_view_name": "StyleView",
            "_model_name": "DescriptionStyleModel",
            "description_width": "",
            "_view_module": "@jupyter-widgets/base",
            "_model_module_version": "1.5.0",
            "_view_count": null,
            "_view_module_version": "1.2.0",
            "_model_module": "@jupyter-widgets/controls"
          }
        },
        "b781044a6ef740e98dd278fd08e4a748": {
          "model_module": "@jupyter-widgets/base",
          "model_name": "LayoutModel",
          "model_module_version": "1.2.0",
          "state": {
            "_view_name": "LayoutView",
            "grid_template_rows": null,
            "right": null,
            "justify_content": null,
            "_view_module": "@jupyter-widgets/base",
            "overflow": null,
            "_model_module_version": "1.2.0",
            "_view_count": null,
            "flex_flow": null,
            "width": null,
            "min_width": null,
            "border": null,
            "align_items": null,
            "bottom": null,
            "_model_module": "@jupyter-widgets/base",
            "top": null,
            "grid_column": null,
            "overflow_y": null,
            "overflow_x": null,
            "grid_auto_flow": null,
            "grid_area": null,
            "grid_template_columns": null,
            "flex": null,
            "_model_name": "LayoutModel",
            "justify_items": null,
            "grid_row": null,
            "max_height": null,
            "align_content": null,
            "visibility": null,
            "align_self": null,
            "height": null,
            "min_height": null,
            "padding": null,
            "grid_auto_rows": null,
            "grid_gap": null,
            "max_width": null,
            "order": null,
            "_view_module_version": "1.2.0",
            "grid_template_areas": null,
            "object_position": null,
            "object_fit": null,
            "grid_auto_columns": null,
            "margin": null,
            "display": null,
            "left": null
          }
        },
        "f3e2a6d5926f4379a419e85d904f13ee": {
          "model_module": "@jupyter-widgets/controls",
          "model_name": "ProgressStyleModel",
          "model_module_version": "1.5.0",
          "state": {
            "_view_name": "StyleView",
            "_model_name": "ProgressStyleModel",
            "description_width": "",
            "_view_module": "@jupyter-widgets/base",
            "_model_module_version": "1.5.0",
            "_view_count": null,
            "_view_module_version": "1.2.0",
            "bar_color": null,
            "_model_module": "@jupyter-widgets/controls"
          }
        },
        "ea19ec8730514910b4ce99a7f5fd3264": {
          "model_module": "@jupyter-widgets/base",
          "model_name": "LayoutModel",
          "model_module_version": "1.2.0",
          "state": {
            "_view_name": "LayoutView",
            "grid_template_rows": null,
            "right": null,
            "justify_content": null,
            "_view_module": "@jupyter-widgets/base",
            "overflow": null,
            "_model_module_version": "1.2.0",
            "_view_count": null,
            "flex_flow": null,
            "width": null,
            "min_width": null,
            "border": null,
            "align_items": null,
            "bottom": null,
            "_model_module": "@jupyter-widgets/base",
            "top": null,
            "grid_column": null,
            "overflow_y": null,
            "overflow_x": null,
            "grid_auto_flow": null,
            "grid_area": null,
            "grid_template_columns": null,
            "flex": null,
            "_model_name": "LayoutModel",
            "justify_items": null,
            "grid_row": null,
            "max_height": null,
            "align_content": null,
            "visibility": null,
            "align_self": null,
            "height": null,
            "min_height": null,
            "padding": null,
            "grid_auto_rows": null,
            "grid_gap": null,
            "max_width": null,
            "order": null,
            "_view_module_version": "1.2.0",
            "grid_template_areas": null,
            "object_position": null,
            "object_fit": null,
            "grid_auto_columns": null,
            "margin": null,
            "display": null,
            "left": null
          }
        },
        "853bbf4fcdd8486bbf7d823966768055": {
          "model_module": "@jupyter-widgets/controls",
          "model_name": "DescriptionStyleModel",
          "model_module_version": "1.5.0",
          "state": {
            "_view_name": "StyleView",
            "_model_name": "DescriptionStyleModel",
            "description_width": "",
            "_view_module": "@jupyter-widgets/base",
            "_model_module_version": "1.5.0",
            "_view_count": null,
            "_view_module_version": "1.2.0",
            "_model_module": "@jupyter-widgets/controls"
          }
        },
        "bbaebf0588f340babaa4d338904a5ffd": {
          "model_module": "@jupyter-widgets/base",
          "model_name": "LayoutModel",
          "model_module_version": "1.2.0",
          "state": {
            "_view_name": "LayoutView",
            "grid_template_rows": null,
            "right": null,
            "justify_content": null,
            "_view_module": "@jupyter-widgets/base",
            "overflow": null,
            "_model_module_version": "1.2.0",
            "_view_count": null,
            "flex_flow": null,
            "width": null,
            "min_width": null,
            "border": null,
            "align_items": null,
            "bottom": null,
            "_model_module": "@jupyter-widgets/base",
            "top": null,
            "grid_column": null,
            "overflow_y": null,
            "overflow_x": null,
            "grid_auto_flow": null,
            "grid_area": null,
            "grid_template_columns": null,
            "flex": null,
            "_model_name": "LayoutModel",
            "justify_items": null,
            "grid_row": null,
            "max_height": null,
            "align_content": null,
            "visibility": null,
            "align_self": null,
            "height": null,
            "min_height": null,
            "padding": null,
            "grid_auto_rows": null,
            "grid_gap": null,
            "max_width": null,
            "order": null,
            "_view_module_version": "1.2.0",
            "grid_template_areas": null,
            "object_position": null,
            "object_fit": null,
            "grid_auto_columns": null,
            "margin": null,
            "display": null,
            "left": null
          }
        },
        "65d9e73e6f72479b8b5fb8652a9439f2": {
          "model_module": "@jupyter-widgets/controls",
          "model_name": "HBoxModel",
          "model_module_version": "1.5.0",
          "state": {
            "_view_name": "HBoxView",
            "_dom_classes": [],
            "_model_name": "HBoxModel",
            "_view_module": "@jupyter-widgets/controls",
            "_model_module_version": "1.5.0",
            "_view_count": null,
            "_view_module_version": "1.5.0",
            "box_style": "",
            "layout": "IPY_MODEL_09c98ba72d304c4ea25dceb13dc43f20",
            "_model_module": "@jupyter-widgets/controls",
            "children": [
              "IPY_MODEL_60f962d56f6a495db2908f570d086d62",
              "IPY_MODEL_d906aa8e6e384ef7a26456701c4c7492",
              "IPY_MODEL_648e85568c1c438d8a79c69c89ca6bad"
            ]
          }
        },
        "09c98ba72d304c4ea25dceb13dc43f20": {
          "model_module": "@jupyter-widgets/base",
          "model_name": "LayoutModel",
          "model_module_version": "1.2.0",
          "state": {
            "_view_name": "LayoutView",
            "grid_template_rows": null,
            "right": null,
            "justify_content": null,
            "_view_module": "@jupyter-widgets/base",
            "overflow": null,
            "_model_module_version": "1.2.0",
            "_view_count": null,
            "flex_flow": null,
            "width": null,
            "min_width": null,
            "border": null,
            "align_items": null,
            "bottom": null,
            "_model_module": "@jupyter-widgets/base",
            "top": null,
            "grid_column": null,
            "overflow_y": null,
            "overflow_x": null,
            "grid_auto_flow": null,
            "grid_area": null,
            "grid_template_columns": null,
            "flex": null,
            "_model_name": "LayoutModel",
            "justify_items": null,
            "grid_row": null,
            "max_height": null,
            "align_content": null,
            "visibility": null,
            "align_self": null,
            "height": null,
            "min_height": null,
            "padding": null,
            "grid_auto_rows": null,
            "grid_gap": null,
            "max_width": null,
            "order": null,
            "_view_module_version": "1.2.0",
            "grid_template_areas": null,
            "object_position": null,
            "object_fit": null,
            "grid_auto_columns": null,
            "margin": null,
            "display": null,
            "left": null
          }
        },
        "60f962d56f6a495db2908f570d086d62": {
          "model_module": "@jupyter-widgets/controls",
          "model_name": "HTMLModel",
          "model_module_version": "1.5.0",
          "state": {
            "_view_name": "HTMLView",
            "style": "IPY_MODEL_6201ce0649f140ffbd971462d24d3f67",
            "_dom_classes": [],
            "description": "",
            "_model_name": "HTMLModel",
            "placeholder": "​",
            "_view_module": "@jupyter-widgets/controls",
            "_model_module_version": "1.5.0",
            "value": "",
            "_view_count": null,
            "_view_module_version": "1.5.0",
            "description_tooltip": null,
            "_model_module": "@jupyter-widgets/controls",
            "layout": "IPY_MODEL_32683c1b1a404c94a9b59274badd99bb"
          }
        },
        "d906aa8e6e384ef7a26456701c4c7492": {
          "model_module": "@jupyter-widgets/controls",
          "model_name": "FloatProgressModel",
          "model_module_version": "1.5.0",
          "state": {
            "_view_name": "ProgressView",
            "style": "IPY_MODEL_93e7a7d9348d4ed5b3d221cfff7ec84c",
            "_dom_classes": [],
            "description": "",
            "_model_name": "FloatProgressModel",
            "bar_style": "success",
            "max": 29515,
            "_view_module": "@jupyter-widgets/controls",
            "_model_module_version": "1.5.0",
            "value": 29515,
            "_view_count": null,
            "_view_module_version": "1.5.0",
            "orientation": "horizontal",
            "min": 0,
            "description_tooltip": null,
            "_model_module": "@jupyter-widgets/controls",
            "layout": "IPY_MODEL_254e851285de4681a30ebd59f1a5984d"
          }
        },
        "648e85568c1c438d8a79c69c89ca6bad": {
          "model_module": "@jupyter-widgets/controls",
          "model_name": "HTMLModel",
          "model_module_version": "1.5.0",
          "state": {
            "_view_name": "HTMLView",
            "style": "IPY_MODEL_562fc040299c4e3ba121bc25cfcf016c",
            "_dom_classes": [],
            "description": "",
            "_model_name": "HTMLModel",
            "placeholder": "​",
            "_view_module": "@jupyter-widgets/controls",
            "_model_module_version": "1.5.0",
            "value": " 29696/? [00:00&lt;00:00, 125282.61it/s]",
            "_view_count": null,
            "_view_module_version": "1.5.0",
            "description_tooltip": null,
            "_model_module": "@jupyter-widgets/controls",
            "layout": "IPY_MODEL_1409161461e445be86f12f5d771e9a1f"
          }
        },
        "6201ce0649f140ffbd971462d24d3f67": {
          "model_module": "@jupyter-widgets/controls",
          "model_name": "DescriptionStyleModel",
          "model_module_version": "1.5.0",
          "state": {
            "_view_name": "StyleView",
            "_model_name": "DescriptionStyleModel",
            "description_width": "",
            "_view_module": "@jupyter-widgets/base",
            "_model_module_version": "1.5.0",
            "_view_count": null,
            "_view_module_version": "1.2.0",
            "_model_module": "@jupyter-widgets/controls"
          }
        },
        "32683c1b1a404c94a9b59274badd99bb": {
          "model_module": "@jupyter-widgets/base",
          "model_name": "LayoutModel",
          "model_module_version": "1.2.0",
          "state": {
            "_view_name": "LayoutView",
            "grid_template_rows": null,
            "right": null,
            "justify_content": null,
            "_view_module": "@jupyter-widgets/base",
            "overflow": null,
            "_model_module_version": "1.2.0",
            "_view_count": null,
            "flex_flow": null,
            "width": null,
            "min_width": null,
            "border": null,
            "align_items": null,
            "bottom": null,
            "_model_module": "@jupyter-widgets/base",
            "top": null,
            "grid_column": null,
            "overflow_y": null,
            "overflow_x": null,
            "grid_auto_flow": null,
            "grid_area": null,
            "grid_template_columns": null,
            "flex": null,
            "_model_name": "LayoutModel",
            "justify_items": null,
            "grid_row": null,
            "max_height": null,
            "align_content": null,
            "visibility": null,
            "align_self": null,
            "height": null,
            "min_height": null,
            "padding": null,
            "grid_auto_rows": null,
            "grid_gap": null,
            "max_width": null,
            "order": null,
            "_view_module_version": "1.2.0",
            "grid_template_areas": null,
            "object_position": null,
            "object_fit": null,
            "grid_auto_columns": null,
            "margin": null,
            "display": null,
            "left": null
          }
        },
        "93e7a7d9348d4ed5b3d221cfff7ec84c": {
          "model_module": "@jupyter-widgets/controls",
          "model_name": "ProgressStyleModel",
          "model_module_version": "1.5.0",
          "state": {
            "_view_name": "StyleView",
            "_model_name": "ProgressStyleModel",
            "description_width": "",
            "_view_module": "@jupyter-widgets/base",
            "_model_module_version": "1.5.0",
            "_view_count": null,
            "_view_module_version": "1.2.0",
            "bar_color": null,
            "_model_module": "@jupyter-widgets/controls"
          }
        },
        "254e851285de4681a30ebd59f1a5984d": {
          "model_module": "@jupyter-widgets/base",
          "model_name": "LayoutModel",
          "model_module_version": "1.2.0",
          "state": {
            "_view_name": "LayoutView",
            "grid_template_rows": null,
            "right": null,
            "justify_content": null,
            "_view_module": "@jupyter-widgets/base",
            "overflow": null,
            "_model_module_version": "1.2.0",
            "_view_count": null,
            "flex_flow": null,
            "width": null,
            "min_width": null,
            "border": null,
            "align_items": null,
            "bottom": null,
            "_model_module": "@jupyter-widgets/base",
            "top": null,
            "grid_column": null,
            "overflow_y": null,
            "overflow_x": null,
            "grid_auto_flow": null,
            "grid_area": null,
            "grid_template_columns": null,
            "flex": null,
            "_model_name": "LayoutModel",
            "justify_items": null,
            "grid_row": null,
            "max_height": null,
            "align_content": null,
            "visibility": null,
            "align_self": null,
            "height": null,
            "min_height": null,
            "padding": null,
            "grid_auto_rows": null,
            "grid_gap": null,
            "max_width": null,
            "order": null,
            "_view_module_version": "1.2.0",
            "grid_template_areas": null,
            "object_position": null,
            "object_fit": null,
            "grid_auto_columns": null,
            "margin": null,
            "display": null,
            "left": null
          }
        },
        "562fc040299c4e3ba121bc25cfcf016c": {
          "model_module": "@jupyter-widgets/controls",
          "model_name": "DescriptionStyleModel",
          "model_module_version": "1.5.0",
          "state": {
            "_view_name": "StyleView",
            "_model_name": "DescriptionStyleModel",
            "description_width": "",
            "_view_module": "@jupyter-widgets/base",
            "_model_module_version": "1.5.0",
            "_view_count": null,
            "_view_module_version": "1.2.0",
            "_model_module": "@jupyter-widgets/controls"
          }
        },
        "1409161461e445be86f12f5d771e9a1f": {
          "model_module": "@jupyter-widgets/base",
          "model_name": "LayoutModel",
          "model_module_version": "1.2.0",
          "state": {
            "_view_name": "LayoutView",
            "grid_template_rows": null,
            "right": null,
            "justify_content": null,
            "_view_module": "@jupyter-widgets/base",
            "overflow": null,
            "_model_module_version": "1.2.0",
            "_view_count": null,
            "flex_flow": null,
            "width": null,
            "min_width": null,
            "border": null,
            "align_items": null,
            "bottom": null,
            "_model_module": "@jupyter-widgets/base",
            "top": null,
            "grid_column": null,
            "overflow_y": null,
            "overflow_x": null,
            "grid_auto_flow": null,
            "grid_area": null,
            "grid_template_columns": null,
            "flex": null,
            "_model_name": "LayoutModel",
            "justify_items": null,
            "grid_row": null,
            "max_height": null,
            "align_content": null,
            "visibility": null,
            "align_self": null,
            "height": null,
            "min_height": null,
            "padding": null,
            "grid_auto_rows": null,
            "grid_gap": null,
            "max_width": null,
            "order": null,
            "_view_module_version": "1.2.0",
            "grid_template_areas": null,
            "object_position": null,
            "object_fit": null,
            "grid_auto_columns": null,
            "margin": null,
            "display": null,
            "left": null
          }
        },
        "635767f7436546dcb6fa1629b0412fde": {
          "model_module": "@jupyter-widgets/controls",
          "model_name": "HBoxModel",
          "model_module_version": "1.5.0",
          "state": {
            "_view_name": "HBoxView",
            "_dom_classes": [],
            "_model_name": "HBoxModel",
            "_view_module": "@jupyter-widgets/controls",
            "_model_module_version": "1.5.0",
            "_view_count": null,
            "_view_module_version": "1.5.0",
            "box_style": "",
            "layout": "IPY_MODEL_3691bec1a6f04abc9d98718340ac6e64",
            "_model_module": "@jupyter-widgets/controls",
            "children": [
              "IPY_MODEL_5cecb72f19ff4944ba49b05d9d35b3b5",
              "IPY_MODEL_f7e65889ccf7478194b955258049fc0d",
              "IPY_MODEL_19e2d4509fb443b4a421e3d0378156e2"
            ]
          }
        },
        "3691bec1a6f04abc9d98718340ac6e64": {
          "model_module": "@jupyter-widgets/base",
          "model_name": "LayoutModel",
          "model_module_version": "1.2.0",
          "state": {
            "_view_name": "LayoutView",
            "grid_template_rows": null,
            "right": null,
            "justify_content": null,
            "_view_module": "@jupyter-widgets/base",
            "overflow": null,
            "_model_module_version": "1.2.0",
            "_view_count": null,
            "flex_flow": null,
            "width": null,
            "min_width": null,
            "border": null,
            "align_items": null,
            "bottom": null,
            "_model_module": "@jupyter-widgets/base",
            "top": null,
            "grid_column": null,
            "overflow_y": null,
            "overflow_x": null,
            "grid_auto_flow": null,
            "grid_area": null,
            "grid_template_columns": null,
            "flex": null,
            "_model_name": "LayoutModel",
            "justify_items": null,
            "grid_row": null,
            "max_height": null,
            "align_content": null,
            "visibility": null,
            "align_self": null,
            "height": null,
            "min_height": null,
            "padding": null,
            "grid_auto_rows": null,
            "grid_gap": null,
            "max_width": null,
            "order": null,
            "_view_module_version": "1.2.0",
            "grid_template_areas": null,
            "object_position": null,
            "object_fit": null,
            "grid_auto_columns": null,
            "margin": null,
            "display": null,
            "left": null
          }
        },
        "5cecb72f19ff4944ba49b05d9d35b3b5": {
          "model_module": "@jupyter-widgets/controls",
          "model_name": "HTMLModel",
          "model_module_version": "1.5.0",
          "state": {
            "_view_name": "HTMLView",
            "style": "IPY_MODEL_51d07365170845e5abf9574b8b62b615",
            "_dom_classes": [],
            "description": "",
            "_model_name": "HTMLModel",
            "placeholder": "​",
            "_view_module": "@jupyter-widgets/controls",
            "_model_module_version": "1.5.0",
            "value": "",
            "_view_count": null,
            "_view_module_version": "1.5.0",
            "description_tooltip": null,
            "_model_module": "@jupyter-widgets/controls",
            "layout": "IPY_MODEL_6b512b4da6b548288cfc0caa1b2e7d97"
          }
        },
        "f7e65889ccf7478194b955258049fc0d": {
          "model_module": "@jupyter-widgets/controls",
          "model_name": "FloatProgressModel",
          "model_module_version": "1.5.0",
          "state": {
            "_view_name": "ProgressView",
            "style": "IPY_MODEL_c8410d3bfd0f472e892e5edf88df93b0",
            "_dom_classes": [],
            "description": "",
            "_model_name": "FloatProgressModel",
            "bar_style": "success",
            "max": 4422102,
            "_view_module": "@jupyter-widgets/controls",
            "_model_module_version": "1.5.0",
            "value": 4422102,
            "_view_count": null,
            "_view_module_version": "1.5.0",
            "orientation": "horizontal",
            "min": 0,
            "description_tooltip": null,
            "_model_module": "@jupyter-widgets/controls",
            "layout": "IPY_MODEL_414da6c2d0d74df1ba7c12b8c54ddd0b"
          }
        },
        "19e2d4509fb443b4a421e3d0378156e2": {
          "model_module": "@jupyter-widgets/controls",
          "model_name": "HTMLModel",
          "model_module_version": "1.5.0",
          "state": {
            "_view_name": "HTMLView",
            "style": "IPY_MODEL_b307418437be45bdb582f8cd1b08848e",
            "_dom_classes": [],
            "description": "",
            "_model_name": "HTMLModel",
            "placeholder": "​",
            "_view_module": "@jupyter-widgets/controls",
            "_model_module_version": "1.5.0",
            "value": " 4422656/? [00:00&lt;00:00, 6467959.77it/s]",
            "_view_count": null,
            "_view_module_version": "1.5.0",
            "description_tooltip": null,
            "_model_module": "@jupyter-widgets/controls",
            "layout": "IPY_MODEL_e04179bb981746f2bd7453a2d7e89800"
          }
        },
        "51d07365170845e5abf9574b8b62b615": {
          "model_module": "@jupyter-widgets/controls",
          "model_name": "DescriptionStyleModel",
          "model_module_version": "1.5.0",
          "state": {
            "_view_name": "StyleView",
            "_model_name": "DescriptionStyleModel",
            "description_width": "",
            "_view_module": "@jupyter-widgets/base",
            "_model_module_version": "1.5.0",
            "_view_count": null,
            "_view_module_version": "1.2.0",
            "_model_module": "@jupyter-widgets/controls"
          }
        },
        "6b512b4da6b548288cfc0caa1b2e7d97": {
          "model_module": "@jupyter-widgets/base",
          "model_name": "LayoutModel",
          "model_module_version": "1.2.0",
          "state": {
            "_view_name": "LayoutView",
            "grid_template_rows": null,
            "right": null,
            "justify_content": null,
            "_view_module": "@jupyter-widgets/base",
            "overflow": null,
            "_model_module_version": "1.2.0",
            "_view_count": null,
            "flex_flow": null,
            "width": null,
            "min_width": null,
            "border": null,
            "align_items": null,
            "bottom": null,
            "_model_module": "@jupyter-widgets/base",
            "top": null,
            "grid_column": null,
            "overflow_y": null,
            "overflow_x": null,
            "grid_auto_flow": null,
            "grid_area": null,
            "grid_template_columns": null,
            "flex": null,
            "_model_name": "LayoutModel",
            "justify_items": null,
            "grid_row": null,
            "max_height": null,
            "align_content": null,
            "visibility": null,
            "align_self": null,
            "height": null,
            "min_height": null,
            "padding": null,
            "grid_auto_rows": null,
            "grid_gap": null,
            "max_width": null,
            "order": null,
            "_view_module_version": "1.2.0",
            "grid_template_areas": null,
            "object_position": null,
            "object_fit": null,
            "grid_auto_columns": null,
            "margin": null,
            "display": null,
            "left": null
          }
        },
        "c8410d3bfd0f472e892e5edf88df93b0": {
          "model_module": "@jupyter-widgets/controls",
          "model_name": "ProgressStyleModel",
          "model_module_version": "1.5.0",
          "state": {
            "_view_name": "StyleView",
            "_model_name": "ProgressStyleModel",
            "description_width": "",
            "_view_module": "@jupyter-widgets/base",
            "_model_module_version": "1.5.0",
            "_view_count": null,
            "_view_module_version": "1.2.0",
            "bar_color": null,
            "_model_module": "@jupyter-widgets/controls"
          }
        },
        "414da6c2d0d74df1ba7c12b8c54ddd0b": {
          "model_module": "@jupyter-widgets/base",
          "model_name": "LayoutModel",
          "model_module_version": "1.2.0",
          "state": {
            "_view_name": "LayoutView",
            "grid_template_rows": null,
            "right": null,
            "justify_content": null,
            "_view_module": "@jupyter-widgets/base",
            "overflow": null,
            "_model_module_version": "1.2.0",
            "_view_count": null,
            "flex_flow": null,
            "width": null,
            "min_width": null,
            "border": null,
            "align_items": null,
            "bottom": null,
            "_model_module": "@jupyter-widgets/base",
            "top": null,
            "grid_column": null,
            "overflow_y": null,
            "overflow_x": null,
            "grid_auto_flow": null,
            "grid_area": null,
            "grid_template_columns": null,
            "flex": null,
            "_model_name": "LayoutModel",
            "justify_items": null,
            "grid_row": null,
            "max_height": null,
            "align_content": null,
            "visibility": null,
            "align_self": null,
            "height": null,
            "min_height": null,
            "padding": null,
            "grid_auto_rows": null,
            "grid_gap": null,
            "max_width": null,
            "order": null,
            "_view_module_version": "1.2.0",
            "grid_template_areas": null,
            "object_position": null,
            "object_fit": null,
            "grid_auto_columns": null,
            "margin": null,
            "display": null,
            "left": null
          }
        },
        "b307418437be45bdb582f8cd1b08848e": {
          "model_module": "@jupyter-widgets/controls",
          "model_name": "DescriptionStyleModel",
          "model_module_version": "1.5.0",
          "state": {
            "_view_name": "StyleView",
            "_model_name": "DescriptionStyleModel",
            "description_width": "",
            "_view_module": "@jupyter-widgets/base",
            "_model_module_version": "1.5.0",
            "_view_count": null,
            "_view_module_version": "1.2.0",
            "_model_module": "@jupyter-widgets/controls"
          }
        },
        "e04179bb981746f2bd7453a2d7e89800": {
          "model_module": "@jupyter-widgets/base",
          "model_name": "LayoutModel",
          "model_module_version": "1.2.0",
          "state": {
            "_view_name": "LayoutView",
            "grid_template_rows": null,
            "right": null,
            "justify_content": null,
            "_view_module": "@jupyter-widgets/base",
            "overflow": null,
            "_model_module_version": "1.2.0",
            "_view_count": null,
            "flex_flow": null,
            "width": null,
            "min_width": null,
            "border": null,
            "align_items": null,
            "bottom": null,
            "_model_module": "@jupyter-widgets/base",
            "top": null,
            "grid_column": null,
            "overflow_y": null,
            "overflow_x": null,
            "grid_auto_flow": null,
            "grid_area": null,
            "grid_template_columns": null,
            "flex": null,
            "_model_name": "LayoutModel",
            "justify_items": null,
            "grid_row": null,
            "max_height": null,
            "align_content": null,
            "visibility": null,
            "align_self": null,
            "height": null,
            "min_height": null,
            "padding": null,
            "grid_auto_rows": null,
            "grid_gap": null,
            "max_width": null,
            "order": null,
            "_view_module_version": "1.2.0",
            "grid_template_areas": null,
            "object_position": null,
            "object_fit": null,
            "grid_auto_columns": null,
            "margin": null,
            "display": null,
            "left": null
          }
        },
        "d6a1ed9a09104061a42779fb69c9f665": {
          "model_module": "@jupyter-widgets/controls",
          "model_name": "HBoxModel",
          "model_module_version": "1.5.0",
          "state": {
            "_view_name": "HBoxView",
            "_dom_classes": [],
            "_model_name": "HBoxModel",
            "_view_module": "@jupyter-widgets/controls",
            "_model_module_version": "1.5.0",
            "_view_count": null,
            "_view_module_version": "1.5.0",
            "box_style": "",
            "layout": "IPY_MODEL_74fe6a880efd48d7b56ccd761fc13108",
            "_model_module": "@jupyter-widgets/controls",
            "children": [
              "IPY_MODEL_20df72eee182438db4f7ff40517ed620",
              "IPY_MODEL_ce085655b671491fb5f90ea6d47cbd52",
              "IPY_MODEL_78f002d8287d400db3554e6815c35c7b"
            ]
          }
        },
        "74fe6a880efd48d7b56ccd761fc13108": {
          "model_module": "@jupyter-widgets/base",
          "model_name": "LayoutModel",
          "model_module_version": "1.2.0",
          "state": {
            "_view_name": "LayoutView",
            "grid_template_rows": null,
            "right": null,
            "justify_content": null,
            "_view_module": "@jupyter-widgets/base",
            "overflow": null,
            "_model_module_version": "1.2.0",
            "_view_count": null,
            "flex_flow": null,
            "width": null,
            "min_width": null,
            "border": null,
            "align_items": null,
            "bottom": null,
            "_model_module": "@jupyter-widgets/base",
            "top": null,
            "grid_column": null,
            "overflow_y": null,
            "overflow_x": null,
            "grid_auto_flow": null,
            "grid_area": null,
            "grid_template_columns": null,
            "flex": null,
            "_model_name": "LayoutModel",
            "justify_items": null,
            "grid_row": null,
            "max_height": null,
            "align_content": null,
            "visibility": null,
            "align_self": null,
            "height": null,
            "min_height": null,
            "padding": null,
            "grid_auto_rows": null,
            "grid_gap": null,
            "max_width": null,
            "order": null,
            "_view_module_version": "1.2.0",
            "grid_template_areas": null,
            "object_position": null,
            "object_fit": null,
            "grid_auto_columns": null,
            "margin": null,
            "display": null,
            "left": null
          }
        },
        "20df72eee182438db4f7ff40517ed620": {
          "model_module": "@jupyter-widgets/controls",
          "model_name": "HTMLModel",
          "model_module_version": "1.5.0",
          "state": {
            "_view_name": "HTMLView",
            "style": "IPY_MODEL_01f8052f14384026a9b923f73fc38c3a",
            "_dom_classes": [],
            "description": "",
            "_model_name": "HTMLModel",
            "placeholder": "​",
            "_view_module": "@jupyter-widgets/controls",
            "_model_module_version": "1.5.0",
            "value": "",
            "_view_count": null,
            "_view_module_version": "1.5.0",
            "description_tooltip": null,
            "_model_module": "@jupyter-widgets/controls",
            "layout": "IPY_MODEL_daeec3122e1248719e24fa25c9c3039a"
          }
        },
        "ce085655b671491fb5f90ea6d47cbd52": {
          "model_module": "@jupyter-widgets/controls",
          "model_name": "FloatProgressModel",
          "model_module_version": "1.5.0",
          "state": {
            "_view_name": "ProgressView",
            "style": "IPY_MODEL_c42c4da70a714513a1631fe22a17d8d3",
            "_dom_classes": [],
            "description": "",
            "_model_name": "FloatProgressModel",
            "bar_style": "success",
            "max": 5148,
            "_view_module": "@jupyter-widgets/controls",
            "_model_module_version": "1.5.0",
            "value": 5148,
            "_view_count": null,
            "_view_module_version": "1.5.0",
            "orientation": "horizontal",
            "min": 0,
            "description_tooltip": null,
            "_model_module": "@jupyter-widgets/controls",
            "layout": "IPY_MODEL_822077ca3e6b46cdafe4ed50c7b4e67b"
          }
        },
        "78f002d8287d400db3554e6815c35c7b": {
          "model_module": "@jupyter-widgets/controls",
          "model_name": "HTMLModel",
          "model_module_version": "1.5.0",
          "state": {
            "_view_name": "HTMLView",
            "style": "IPY_MODEL_41b4a803388d4688a0a25a156573e9ad",
            "_dom_classes": [],
            "description": "",
            "_model_name": "HTMLModel",
            "placeholder": "​",
            "_view_module": "@jupyter-widgets/controls",
            "_model_module_version": "1.5.0",
            "value": " 6144/? [00:00&lt;00:00, 171968.37it/s]",
            "_view_count": null,
            "_view_module_version": "1.5.0",
            "description_tooltip": null,
            "_model_module": "@jupyter-widgets/controls",
            "layout": "IPY_MODEL_c775c40562884cc09117e3ce280fba29"
          }
        },
        "01f8052f14384026a9b923f73fc38c3a": {
          "model_module": "@jupyter-widgets/controls",
          "model_name": "DescriptionStyleModel",
          "model_module_version": "1.5.0",
          "state": {
            "_view_name": "StyleView",
            "_model_name": "DescriptionStyleModel",
            "description_width": "",
            "_view_module": "@jupyter-widgets/base",
            "_model_module_version": "1.5.0",
            "_view_count": null,
            "_view_module_version": "1.2.0",
            "_model_module": "@jupyter-widgets/controls"
          }
        },
        "daeec3122e1248719e24fa25c9c3039a": {
          "model_module": "@jupyter-widgets/base",
          "model_name": "LayoutModel",
          "model_module_version": "1.2.0",
          "state": {
            "_view_name": "LayoutView",
            "grid_template_rows": null,
            "right": null,
            "justify_content": null,
            "_view_module": "@jupyter-widgets/base",
            "overflow": null,
            "_model_module_version": "1.2.0",
            "_view_count": null,
            "flex_flow": null,
            "width": null,
            "min_width": null,
            "border": null,
            "align_items": null,
            "bottom": null,
            "_model_module": "@jupyter-widgets/base",
            "top": null,
            "grid_column": null,
            "overflow_y": null,
            "overflow_x": null,
            "grid_auto_flow": null,
            "grid_area": null,
            "grid_template_columns": null,
            "flex": null,
            "_model_name": "LayoutModel",
            "justify_items": null,
            "grid_row": null,
            "max_height": null,
            "align_content": null,
            "visibility": null,
            "align_self": null,
            "height": null,
            "min_height": null,
            "padding": null,
            "grid_auto_rows": null,
            "grid_gap": null,
            "max_width": null,
            "order": null,
            "_view_module_version": "1.2.0",
            "grid_template_areas": null,
            "object_position": null,
            "object_fit": null,
            "grid_auto_columns": null,
            "margin": null,
            "display": null,
            "left": null
          }
        },
        "c42c4da70a714513a1631fe22a17d8d3": {
          "model_module": "@jupyter-widgets/controls",
          "model_name": "ProgressStyleModel",
          "model_module_version": "1.5.0",
          "state": {
            "_view_name": "StyleView",
            "_model_name": "ProgressStyleModel",
            "description_width": "",
            "_view_module": "@jupyter-widgets/base",
            "_model_module_version": "1.5.0",
            "_view_count": null,
            "_view_module_version": "1.2.0",
            "bar_color": null,
            "_model_module": "@jupyter-widgets/controls"
          }
        },
        "822077ca3e6b46cdafe4ed50c7b4e67b": {
          "model_module": "@jupyter-widgets/base",
          "model_name": "LayoutModel",
          "model_module_version": "1.2.0",
          "state": {
            "_view_name": "LayoutView",
            "grid_template_rows": null,
            "right": null,
            "justify_content": null,
            "_view_module": "@jupyter-widgets/base",
            "overflow": null,
            "_model_module_version": "1.2.0",
            "_view_count": null,
            "flex_flow": null,
            "width": null,
            "min_width": null,
            "border": null,
            "align_items": null,
            "bottom": null,
            "_model_module": "@jupyter-widgets/base",
            "top": null,
            "grid_column": null,
            "overflow_y": null,
            "overflow_x": null,
            "grid_auto_flow": null,
            "grid_area": null,
            "grid_template_columns": null,
            "flex": null,
            "_model_name": "LayoutModel",
            "justify_items": null,
            "grid_row": null,
            "max_height": null,
            "align_content": null,
            "visibility": null,
            "align_self": null,
            "height": null,
            "min_height": null,
            "padding": null,
            "grid_auto_rows": null,
            "grid_gap": null,
            "max_width": null,
            "order": null,
            "_view_module_version": "1.2.0",
            "grid_template_areas": null,
            "object_position": null,
            "object_fit": null,
            "grid_auto_columns": null,
            "margin": null,
            "display": null,
            "left": null
          }
        },
        "41b4a803388d4688a0a25a156573e9ad": {
          "model_module": "@jupyter-widgets/controls",
          "model_name": "DescriptionStyleModel",
          "model_module_version": "1.5.0",
          "state": {
            "_view_name": "StyleView",
            "_model_name": "DescriptionStyleModel",
            "description_width": "",
            "_view_module": "@jupyter-widgets/base",
            "_model_module_version": "1.5.0",
            "_view_count": null,
            "_view_module_version": "1.2.0",
            "_model_module": "@jupyter-widgets/controls"
          }
        },
        "c775c40562884cc09117e3ce280fba29": {
          "model_module": "@jupyter-widgets/base",
          "model_name": "LayoutModel",
          "model_module_version": "1.2.0",
          "state": {
            "_view_name": "LayoutView",
            "grid_template_rows": null,
            "right": null,
            "justify_content": null,
            "_view_module": "@jupyter-widgets/base",
            "overflow": null,
            "_model_module_version": "1.2.0",
            "_view_count": null,
            "flex_flow": null,
            "width": null,
            "min_width": null,
            "border": null,
            "align_items": null,
            "bottom": null,
            "_model_module": "@jupyter-widgets/base",
            "top": null,
            "grid_column": null,
            "overflow_y": null,
            "overflow_x": null,
            "grid_auto_flow": null,
            "grid_area": null,
            "grid_template_columns": null,
            "flex": null,
            "_model_name": "LayoutModel",
            "justify_items": null,
            "grid_row": null,
            "max_height": null,
            "align_content": null,
            "visibility": null,
            "align_self": null,
            "height": null,
            "min_height": null,
            "padding": null,
            "grid_auto_rows": null,
            "grid_gap": null,
            "max_width": null,
            "order": null,
            "_view_module_version": "1.2.0",
            "grid_template_areas": null,
            "object_position": null,
            "object_fit": null,
            "grid_auto_columns": null,
            "margin": null,
            "display": null,
            "left": null
          }
        },
        "f004f11fb0d7484f9767822e0e9da9a6": {
          "model_module": "@jupyter-widgets/controls",
          "model_name": "HBoxModel",
          "model_module_version": "1.5.0",
          "state": {
            "_view_name": "HBoxView",
            "_dom_classes": [],
            "_model_name": "HBoxModel",
            "_view_module": "@jupyter-widgets/controls",
            "_model_module_version": "1.5.0",
            "_view_count": null,
            "_view_module_version": "1.5.0",
            "box_style": "",
            "layout": "IPY_MODEL_9295a02cda194db793091a39c09b5e73",
            "_model_module": "@jupyter-widgets/controls",
            "children": [
              "IPY_MODEL_ea04939f76ab4de09e763ec79956bc2f",
              "IPY_MODEL_40fc070a2b834b758c79c088e963e0bf",
              "IPY_MODEL_a6e467a61acd4588be861f6097570de5"
            ]
          }
        },
        "9295a02cda194db793091a39c09b5e73": {
          "model_module": "@jupyter-widgets/base",
          "model_name": "LayoutModel",
          "model_module_version": "1.2.0",
          "state": {
            "_view_name": "LayoutView",
            "grid_template_rows": null,
            "right": null,
            "justify_content": null,
            "_view_module": "@jupyter-widgets/base",
            "overflow": null,
            "_model_module_version": "1.2.0",
            "_view_count": null,
            "flex_flow": null,
            "width": null,
            "min_width": null,
            "border": null,
            "align_items": null,
            "bottom": null,
            "_model_module": "@jupyter-widgets/base",
            "top": null,
            "grid_column": null,
            "overflow_y": null,
            "overflow_x": null,
            "grid_auto_flow": null,
            "grid_area": null,
            "grid_template_columns": null,
            "flex": null,
            "_model_name": "LayoutModel",
            "justify_items": null,
            "grid_row": null,
            "max_height": null,
            "align_content": null,
            "visibility": null,
            "align_self": null,
            "height": null,
            "min_height": null,
            "padding": null,
            "grid_auto_rows": null,
            "grid_gap": null,
            "max_width": null,
            "order": null,
            "_view_module_version": "1.2.0",
            "grid_template_areas": null,
            "object_position": null,
            "object_fit": null,
            "grid_auto_columns": null,
            "margin": null,
            "display": null,
            "left": null
          }
        },
        "ea04939f76ab4de09e763ec79956bc2f": {
          "model_module": "@jupyter-widgets/controls",
          "model_name": "HTMLModel",
          "model_module_version": "1.5.0",
          "state": {
            "_view_name": "HTMLView",
            "style": "IPY_MODEL_805c167d4c7c4cd38f5fa7e52c69f9b6",
            "_dom_classes": [],
            "description": "",
            "_model_name": "HTMLModel",
            "placeholder": "​",
            "_view_module": "@jupyter-widgets/controls",
            "_model_module_version": "1.5.0",
            "value": "100%",
            "_view_count": null,
            "_view_module_version": "1.5.0",
            "description_tooltip": null,
            "_model_module": "@jupyter-widgets/controls",
            "layout": "IPY_MODEL_f4544ebb15b845f9aee208566cc8bcc0"
          }
        },
        "40fc070a2b834b758c79c088e963e0bf": {
          "model_module": "@jupyter-widgets/controls",
          "model_name": "FloatProgressModel",
          "model_module_version": "1.5.0",
          "state": {
            "_view_name": "ProgressView",
            "style": "IPY_MODEL_e5cfddcd6a484450ab779de719b8a871",
            "_dom_classes": [],
            "description": "",
            "_model_name": "FloatProgressModel",
            "bar_style": "success",
            "max": 553507836,
            "_view_module": "@jupyter-widgets/controls",
            "_model_module_version": "1.5.0",
            "value": 553507836,
            "_view_count": null,
            "_view_module_version": "1.5.0",
            "orientation": "horizontal",
            "min": 0,
            "description_tooltip": null,
            "_model_module": "@jupyter-widgets/controls",
            "layout": "IPY_MODEL_6070a142886a4ee29813e3f4bd6cc4c6"
          }
        },
        "a6e467a61acd4588be861f6097570de5": {
          "model_module": "@jupyter-widgets/controls",
          "model_name": "HTMLModel",
          "model_module_version": "1.5.0",
          "state": {
            "_view_name": "HTMLView",
            "style": "IPY_MODEL_2b8a5b73d26b4e43bf2a92269985af24",
            "_dom_classes": [],
            "description": "",
            "_model_name": "HTMLModel",
            "placeholder": "​",
            "_view_module": "@jupyter-widgets/controls",
            "_model_module_version": "1.5.0",
            "value": " 528M/528M [00:15&lt;00:00, 41.6MB/s]",
            "_view_count": null,
            "_view_module_version": "1.5.0",
            "description_tooltip": null,
            "_model_module": "@jupyter-widgets/controls",
            "layout": "IPY_MODEL_259ad72d222d4670b93330842129c982"
          }
        },
        "805c167d4c7c4cd38f5fa7e52c69f9b6": {
          "model_module": "@jupyter-widgets/controls",
          "model_name": "DescriptionStyleModel",
          "model_module_version": "1.5.0",
          "state": {
            "_view_name": "StyleView",
            "_model_name": "DescriptionStyleModel",
            "description_width": "",
            "_view_module": "@jupyter-widgets/base",
            "_model_module_version": "1.5.0",
            "_view_count": null,
            "_view_module_version": "1.2.0",
            "_model_module": "@jupyter-widgets/controls"
          }
        },
        "f4544ebb15b845f9aee208566cc8bcc0": {
          "model_module": "@jupyter-widgets/base",
          "model_name": "LayoutModel",
          "model_module_version": "1.2.0",
          "state": {
            "_view_name": "LayoutView",
            "grid_template_rows": null,
            "right": null,
            "justify_content": null,
            "_view_module": "@jupyter-widgets/base",
            "overflow": null,
            "_model_module_version": "1.2.0",
            "_view_count": null,
            "flex_flow": null,
            "width": null,
            "min_width": null,
            "border": null,
            "align_items": null,
            "bottom": null,
            "_model_module": "@jupyter-widgets/base",
            "top": null,
            "grid_column": null,
            "overflow_y": null,
            "overflow_x": null,
            "grid_auto_flow": null,
            "grid_area": null,
            "grid_template_columns": null,
            "flex": null,
            "_model_name": "LayoutModel",
            "justify_items": null,
            "grid_row": null,
            "max_height": null,
            "align_content": null,
            "visibility": null,
            "align_self": null,
            "height": null,
            "min_height": null,
            "padding": null,
            "grid_auto_rows": null,
            "grid_gap": null,
            "max_width": null,
            "order": null,
            "_view_module_version": "1.2.0",
            "grid_template_areas": null,
            "object_position": null,
            "object_fit": null,
            "grid_auto_columns": null,
            "margin": null,
            "display": null,
            "left": null
          }
        },
        "e5cfddcd6a484450ab779de719b8a871": {
          "model_module": "@jupyter-widgets/controls",
          "model_name": "ProgressStyleModel",
          "model_module_version": "1.5.0",
          "state": {
            "_view_name": "StyleView",
            "_model_name": "ProgressStyleModel",
            "description_width": "",
            "_view_module": "@jupyter-widgets/base",
            "_model_module_version": "1.5.0",
            "_view_count": null,
            "_view_module_version": "1.2.0",
            "bar_color": null,
            "_model_module": "@jupyter-widgets/controls"
          }
        },
        "6070a142886a4ee29813e3f4bd6cc4c6": {
          "model_module": "@jupyter-widgets/base",
          "model_name": "LayoutModel",
          "model_module_version": "1.2.0",
          "state": {
            "_view_name": "LayoutView",
            "grid_template_rows": null,
            "right": null,
            "justify_content": null,
            "_view_module": "@jupyter-widgets/base",
            "overflow": null,
            "_model_module_version": "1.2.0",
            "_view_count": null,
            "flex_flow": null,
            "width": null,
            "min_width": null,
            "border": null,
            "align_items": null,
            "bottom": null,
            "_model_module": "@jupyter-widgets/base",
            "top": null,
            "grid_column": null,
            "overflow_y": null,
            "overflow_x": null,
            "grid_auto_flow": null,
            "grid_area": null,
            "grid_template_columns": null,
            "flex": null,
            "_model_name": "LayoutModel",
            "justify_items": null,
            "grid_row": null,
            "max_height": null,
            "align_content": null,
            "visibility": null,
            "align_self": null,
            "height": null,
            "min_height": null,
            "padding": null,
            "grid_auto_rows": null,
            "grid_gap": null,
            "max_width": null,
            "order": null,
            "_view_module_version": "1.2.0",
            "grid_template_areas": null,
            "object_position": null,
            "object_fit": null,
            "grid_auto_columns": null,
            "margin": null,
            "display": null,
            "left": null
          }
        },
        "2b8a5b73d26b4e43bf2a92269985af24": {
          "model_module": "@jupyter-widgets/controls",
          "model_name": "DescriptionStyleModel",
          "model_module_version": "1.5.0",
          "state": {
            "_view_name": "StyleView",
            "_model_name": "DescriptionStyleModel",
            "description_width": "",
            "_view_module": "@jupyter-widgets/base",
            "_model_module_version": "1.5.0",
            "_view_count": null,
            "_view_module_version": "1.2.0",
            "_model_module": "@jupyter-widgets/controls"
          }
        },
        "259ad72d222d4670b93330842129c982": {
          "model_module": "@jupyter-widgets/base",
          "model_name": "LayoutModel",
          "model_module_version": "1.2.0",
          "state": {
            "_view_name": "LayoutView",
            "grid_template_rows": null,
            "right": null,
            "justify_content": null,
            "_view_module": "@jupyter-widgets/base",
            "overflow": null,
            "_model_module_version": "1.2.0",
            "_view_count": null,
            "flex_flow": null,
            "width": null,
            "min_width": null,
            "border": null,
            "align_items": null,
            "bottom": null,
            "_model_module": "@jupyter-widgets/base",
            "top": null,
            "grid_column": null,
            "overflow_y": null,
            "overflow_x": null,
            "grid_auto_flow": null,
            "grid_area": null,
            "grid_template_columns": null,
            "flex": null,
            "_model_name": "LayoutModel",
            "justify_items": null,
            "grid_row": null,
            "max_height": null,
            "align_content": null,
            "visibility": null,
            "align_self": null,
            "height": null,
            "min_height": null,
            "padding": null,
            "grid_auto_rows": null,
            "grid_gap": null,
            "max_width": null,
            "order": null,
            "_view_module_version": "1.2.0",
            "grid_template_areas": null,
            "object_position": null,
            "object_fit": null,
            "grid_auto_columns": null,
            "margin": null,
            "display": null,
            "left": null
          }
        }
      }
    }
  },
  "cells": [
    {
      "cell_type": "markdown",
      "metadata": {
        "id": "mE2F5Cj5X-cq"
      },
      "source": [
        "# Graded lab session 5 | Deep classification on Fashion-MNIST using pytorch\n",
        "\n",
        "pierre-henri.conze@imt-atlantique.fr \\\\\n",
        "francois.rousseau@imt-atlantique.fr \\\\\n",
        "aurelien.colin@imt-atlantique.fr \\\\\n",
        "simon.benaichouche@imt-atlantique.fr\n",
        "\n",
        "---\n",
        "\n"
      ]
    },
    {
      "cell_type": "markdown",
      "metadata": {
        "id": "pJIDcT7uH6Pb"
      },
      "source": [
        "#### **Student name** = Luther Ollier - Stanislas de Charentenay"
      ]
    },
    {
      "cell_type": "markdown",
      "metadata": {
        "id": "aZNAqdzCX-cs"
      },
      "source": [
        "### Objective of this lab session: perform classification on Fashion-MNIST using multi-layer perceptron, convolutional neural networks and transfer learning to obtain the best classification results as possible."
      ]
    },
    {
      "cell_type": "markdown",
      "metadata": {
        "id": "hFDfkShgOzbv"
      },
      "source": [
        "#### Challenge: the first 3 students in terms of overall test accuracy results (whatever the methodology used) will obtain bonus points!"
      ]
    },
    {
      "cell_type": "markdown",
      "metadata": {
        "id": "fG6lx_LHMO0I"
      },
      "source": [
        "### Table of Contents\n",
        "\n",
        "* [Data management](#section_1)\n",
        "    * [Question 1.1](#question_1_1)\n",
        "    * [Question 1.2](#question_1_2)\n",
        "    * [Question 1.3](#question_1_3)\n",
        "    * [Question 1.4](#question_1_4)\n",
        "* [Multi-Layer Perceptron](#section_2)    \n",
        "    * [Question 2.1](#question_2_1)\n",
        "    * [Question 2.2](#question_2_2)\n",
        "    * [Question 2.3](#question_2_3)\n",
        "    * [Question 2.4](#question_2_4)\n",
        "    * [Question 2.5](#question_2_5)\n",
        "* [Convolutional neural network](#section_3)    \n",
        "    * [Question 3.1](#question_3_1)\n",
        "    * [Question 3.2](#question_3_2)\n",
        "    * [Question 3.3](#question_3_3)\n",
        "    * [Question 3.4](#question_3_4)\n",
        "    * [Question 3.5](#question_3_5)\n",
        "    * [Question 3.6](#question_3_6)\n",
        "    * [Question 3.7](#question_3_7)\n",
        "* [Transfer learning from ImageNet](#section_4)    \n",
        "    * [Question 4.1](#question_4_1)\n",
        "    * [Question 4.2](#question_4_2)\n",
        "    * [Question 4.3](#question_4_3)\n",
        "    * [Question 4.4](#question_4_4)\n",
        "    * [Question 4.5](#question_4_5)\n",
        "* [Challenge](#section_5)    \n",
        "    * [Question 5.1](#question_5_1)"
      ]
    },
    {
      "cell_type": "markdown",
      "metadata": {
        "id": "85qr0BEYX-cu"
      },
      "source": [
        "## 1- Data management <a class=\"anchor\" id=\"section_1\"></a>\n",
        "\n",
        "Start with these lines of code to automatically download the Fashion-MNIST dataset."
      ]
    },
    {
      "cell_type": "code",
      "metadata": {
        "id": "W6fsgjPOX-cv",
        "colab": {
          "base_uri": "https://localhost:8080/",
          "height": 478,
          "referenced_widgets": [
            "2b6b77022abd45e8a2997b2ecebd3a14",
            "12d94ec77e2f49898cf2bc92c00cea59",
            "dbcf547d433d4f448cc6d11c86819c5f",
            "946bf7a304e949c883877f305f2f4841",
            "f635e8b741274693890fb549e3b992ef",
            "d6d657fe61114cdfad86e0f6c1065323",
            "b781044a6ef740e98dd278fd08e4a748",
            "f3e2a6d5926f4379a419e85d904f13ee",
            "ea19ec8730514910b4ce99a7f5fd3264",
            "853bbf4fcdd8486bbf7d823966768055",
            "bbaebf0588f340babaa4d338904a5ffd",
            "65d9e73e6f72479b8b5fb8652a9439f2",
            "09c98ba72d304c4ea25dceb13dc43f20",
            "60f962d56f6a495db2908f570d086d62",
            "d906aa8e6e384ef7a26456701c4c7492",
            "648e85568c1c438d8a79c69c89ca6bad",
            "6201ce0649f140ffbd971462d24d3f67",
            "32683c1b1a404c94a9b59274badd99bb",
            "93e7a7d9348d4ed5b3d221cfff7ec84c",
            "254e851285de4681a30ebd59f1a5984d",
            "562fc040299c4e3ba121bc25cfcf016c",
            "1409161461e445be86f12f5d771e9a1f",
            "635767f7436546dcb6fa1629b0412fde",
            "3691bec1a6f04abc9d98718340ac6e64",
            "5cecb72f19ff4944ba49b05d9d35b3b5",
            "f7e65889ccf7478194b955258049fc0d",
            "19e2d4509fb443b4a421e3d0378156e2",
            "51d07365170845e5abf9574b8b62b615",
            "6b512b4da6b548288cfc0caa1b2e7d97",
            "c8410d3bfd0f472e892e5edf88df93b0",
            "414da6c2d0d74df1ba7c12b8c54ddd0b",
            "b307418437be45bdb582f8cd1b08848e",
            "e04179bb981746f2bd7453a2d7e89800",
            "d6a1ed9a09104061a42779fb69c9f665",
            "74fe6a880efd48d7b56ccd761fc13108",
            "20df72eee182438db4f7ff40517ed620",
            "ce085655b671491fb5f90ea6d47cbd52",
            "78f002d8287d400db3554e6815c35c7b",
            "01f8052f14384026a9b923f73fc38c3a",
            "daeec3122e1248719e24fa25c9c3039a",
            "c42c4da70a714513a1631fe22a17d8d3",
            "822077ca3e6b46cdafe4ed50c7b4e67b",
            "41b4a803388d4688a0a25a156573e9ad",
            "c775c40562884cc09117e3ce280fba29"
          ]
        },
        "outputId": "da3accf6-e330-4b49-b9c3-33e71dc46ddb"
      },
      "source": [
        "from torchvision import datasets\n",
        "import torchvision.transforms as transforms\n",
        "\n",
        "transform = transforms.ToTensor()\n",
        "\n",
        "train_data = datasets.FashionMNIST(root = 'data', train = True, download = True, transform = transform)\n",
        "test_data = datasets.FashionMNIST(root = 'data', train = False, download = True, transform = transform)"
      ],
      "execution_count": null,
      "outputs": [
        {
          "output_type": "stream",
          "name": "stdout",
          "text": [
            "Downloading http://fashion-mnist.s3-website.eu-central-1.amazonaws.com/train-images-idx3-ubyte.gz\n",
            "Downloading http://fashion-mnist.s3-website.eu-central-1.amazonaws.com/train-images-idx3-ubyte.gz to data/FashionMNIST/raw/train-images-idx3-ubyte.gz\n"
          ]
        },
        {
          "output_type": "display_data",
          "data": {
            "application/vnd.jupyter.widget-view+json": {
              "model_id": "2b6b77022abd45e8a2997b2ecebd3a14",
              "version_minor": 0,
              "version_major": 2
            },
            "text/plain": [
              "  0%|          | 0/26421880 [00:00<?, ?it/s]"
            ]
          },
          "metadata": {}
        },
        {
          "output_type": "stream",
          "name": "stdout",
          "text": [
            "Extracting data/FashionMNIST/raw/train-images-idx3-ubyte.gz to data/FashionMNIST/raw\n",
            "\n",
            "Downloading http://fashion-mnist.s3-website.eu-central-1.amazonaws.com/train-labels-idx1-ubyte.gz\n",
            "Downloading http://fashion-mnist.s3-website.eu-central-1.amazonaws.com/train-labels-idx1-ubyte.gz to data/FashionMNIST/raw/train-labels-idx1-ubyte.gz\n"
          ]
        },
        {
          "output_type": "display_data",
          "data": {
            "application/vnd.jupyter.widget-view+json": {
              "model_id": "65d9e73e6f72479b8b5fb8652a9439f2",
              "version_minor": 0,
              "version_major": 2
            },
            "text/plain": [
              "  0%|          | 0/29515 [00:00<?, ?it/s]"
            ]
          },
          "metadata": {}
        },
        {
          "output_type": "stream",
          "name": "stdout",
          "text": [
            "Extracting data/FashionMNIST/raw/train-labels-idx1-ubyte.gz to data/FashionMNIST/raw\n",
            "\n",
            "Downloading http://fashion-mnist.s3-website.eu-central-1.amazonaws.com/t10k-images-idx3-ubyte.gz\n",
            "Downloading http://fashion-mnist.s3-website.eu-central-1.amazonaws.com/t10k-images-idx3-ubyte.gz to data/FashionMNIST/raw/t10k-images-idx3-ubyte.gz\n"
          ]
        },
        {
          "output_type": "display_data",
          "data": {
            "application/vnd.jupyter.widget-view+json": {
              "model_id": "635767f7436546dcb6fa1629b0412fde",
              "version_minor": 0,
              "version_major": 2
            },
            "text/plain": [
              "  0%|          | 0/4422102 [00:00<?, ?it/s]"
            ]
          },
          "metadata": {}
        },
        {
          "output_type": "stream",
          "name": "stdout",
          "text": [
            "Extracting data/FashionMNIST/raw/t10k-images-idx3-ubyte.gz to data/FashionMNIST/raw\n",
            "\n",
            "Downloading http://fashion-mnist.s3-website.eu-central-1.amazonaws.com/t10k-labels-idx1-ubyte.gz\n",
            "Downloading http://fashion-mnist.s3-website.eu-central-1.amazonaws.com/t10k-labels-idx1-ubyte.gz to data/FashionMNIST/raw/t10k-labels-idx1-ubyte.gz\n"
          ]
        },
        {
          "output_type": "display_data",
          "data": {
            "application/vnd.jupyter.widget-view+json": {
              "model_id": "d6a1ed9a09104061a42779fb69c9f665",
              "version_minor": 0,
              "version_major": 2
            },
            "text/plain": [
              "  0%|          | 0/5148 [00:00<?, ?it/s]"
            ]
          },
          "metadata": {}
        },
        {
          "output_type": "stream",
          "name": "stdout",
          "text": [
            "Extracting data/FashionMNIST/raw/t10k-labels-idx1-ubyte.gz to data/FashionMNIST/raw\n",
            "\n"
          ]
        },
        {
          "output_type": "stream",
          "name": "stderr",
          "text": [
            "/usr/local/lib/python3.7/dist-packages/torchvision/datasets/mnist.py:498: UserWarning: The given NumPy array is not writeable, and PyTorch does not support non-writeable tensors. This means you can write to the underlying (supposedly non-writeable) NumPy array using the tensor. You may want to copy the array to protect its data or make it writeable before converting it to a tensor. This type of warning will be suppressed for the rest of this program. (Triggered internally at  /pytorch/torch/csrc/utils/tensor_numpy.cpp:180.)\n",
            "  return torch.from_numpy(parsed.astype(m[2], copy=False)).view(*s)\n"
          ]
        }
      ]
    },
    {
      "cell_type": "markdown",
      "metadata": {
        "id": "qLO0Tf2nQ1wK"
      },
      "source": [
        "#### **Question 1.1** - Fashion-MNIST is a dataset consisting of a training set of A examples and a test set of B examples. Each example is a CxC grayscale image, associated with a label from D classes. What are the values for A, B, C and D? <a class=\"anchor\" id=\"question_1_1\"></a>"
      ]
    },
    {
      "cell_type": "code",
      "metadata": {
        "id": "3M62Fu52Q1IT",
        "colab": {
          "base_uri": "https://localhost:8080/"
        },
        "outputId": "15623514-92d4-40ce-8121-78e6218197ad"
      },
      "source": [
        "print(\" A : {} \\n B : {} \\n C : {} \\n D : {}\".format(len(train_data), len(test_data), train_data[0][0].shape[1], len(set(test_data.targets.numpy()))) )\n",
        "\n"
      ],
      "execution_count": null,
      "outputs": [
        {
          "output_type": "stream",
          "name": "stdout",
          "text": [
            " A : 60000 \n",
            " B : 10000 \n",
            " C : 28 \n",
            " D : 10\n"
          ]
        }
      ]
    },
    {
      "cell_type": "markdown",
      "metadata": {
        "id": "KC63p4FeUSrg"
      },
      "source": [
        "As indicated below, each Fashion-MNIST sample is assigned to one of the following classes: 0: T-shirt/top, 1: Trouser, 2: Pullover, 3: Dress, 4: Coat, 5: Sandal, 6: Shirt, 7: Sneaker, 8: Bag, 9: Ankle boot."
      ]
    },
    {
      "cell_type": "code",
      "metadata": {
        "id": "LmyO8doyTM-K",
        "colab": {
          "base_uri": "https://localhost:8080/"
        },
        "outputId": "665d4f6d-4ac8-4ceb-93c9-a8d9c3385210"
      },
      "source": [
        "class_names = train_data.classes\n",
        "print(class_names)"
      ],
      "execution_count": null,
      "outputs": [
        {
          "output_type": "stream",
          "name": "stdout",
          "text": [
            "['T-shirt/top', 'Trouser', 'Pullover', 'Dress', 'Coat', 'Sandal', 'Shirt', 'Sneaker', 'Bag', 'Ankle boot']\n"
          ]
        }
      ]
    },
    {
      "cell_type": "markdown",
      "metadata": {
        "id": "FQKjqImJ4mKx"
      },
      "source": [
        "#### **Question 1.2** - Complete the following cell to create data loaders ([documentation](https://pytorch.org/docs/stable/data.html)) for training, validation and test sets. <a class=\"anchor\" id=\"question_1_2\"></a>"
      ]
    },
    {
      "cell_type": "code",
      "metadata": {
        "id": "Ho-I57ync1Ya"
      },
      "source": [
        "import torch\n",
        "from torch.utils.data.sampler import SubsetRandomSampler\n",
        "import numpy as np\n",
        "\n",
        "batch_size = 20\n",
        "valid_size = 0.2\n",
        "\n",
        "def create_data_loaders(batch_size, valid_size, train_data, test_data): \n",
        "\n",
        "  indices = list(range(len(train_data)))\n",
        "  np.random.shuffle(indices)\n",
        "  split = int(np.floor(valid_size * len(train_data)))\n",
        "  train_index, valid_index = indices[split:], indices[:split]\n",
        "\n",
        "  train_sampler = SubsetRandomSampler(train_index)\n",
        "  valid_sampler = SubsetRandomSampler(valid_index)\n",
        "\n",
        "  train_loader = torch.utils.data.DataLoader(train_data, batch_size = batch_size, sampler = train_sampler)\n",
        "  valid_loader = torch.utils.data.DataLoader(train_data, batch_size = batch_size, sampler = valid_sampler)\n",
        "  test_loader = torch.utils.data.DataLoader(test_data, batch_size = batch_size)\n",
        "\n",
        "    \n",
        "  return train_loader, valid_loader, test_loader"
      ],
      "execution_count": null,
      "outputs": []
    },
    {
      "cell_type": "code",
      "metadata": {
        "id": "gXWfzusFrlmQ"
      },
      "source": [
        "train_loader, valid_loader, test_loader = create_data_loaders(batch_size, valid_size, train_data, test_data) "
      ],
      "execution_count": null,
      "outputs": []
    },
    {
      "cell_type": "markdown",
      "metadata": {
        "id": "18G47IQQX-c3"
      },
      "source": [
        "#### **Question 1.3** - Visualize some images from the training set with corresponding ground truth labels. <a class=\"anchor\" id=\"question_1_3\"></a>"
      ]
    },
    {
      "cell_type": "code",
      "metadata": {
        "id": "arAFBf_q0K3p",
        "colab": {
          "base_uri": "https://localhost:8080/",
          "height": 268
        },
        "outputId": "ab7d1c5f-bbdf-4637-88a4-3882e60c1900"
      },
      "source": [
        "# CELL TO BE COMPLETED\n",
        "import matplotlib.pyplot as plt\n",
        "import numpy as np\n",
        "%matplotlib inline\n",
        "\n",
        "data_iter = iter(train_loader) \n",
        "images, labels = data_iter.next()\n",
        "images = images.numpy()\n",
        "\n",
        "fig = plt.figure(figsize=(25, 4))\n",
        "for idx in np.arange(20):\n",
        "    ax = fig.add_subplot(2, 10, idx+1, xticks=[], yticks=[])\n",
        "    ax.imshow(np.squeeze(images[idx]), cmap='gray') \n",
        "    ax.set_title(str(labels[idx].item()))"
      ],
      "execution_count": null,
      "outputs": [
        {
          "output_type": "display_data",
          "data": {
            "image/png": "[encoded data removed]",
            "text/plain": [
              "<Figure size 1800x288 with 20 Axes>"
            ]
          },
          "metadata": {}
        }
      ]
    },
    {
      "cell_type": "markdown",
      "metadata": {
        "id": "JKCVHh7UVPXq"
      },
      "source": [
        "#### **Question 1.4** - View one of these images with more details by superimposing the greyscale intensity values directly on it. <a class=\"anchor\" id=\"question_1_4\"></a>"
      ]
    },
    {
      "cell_type": "code",
      "metadata": {
        "id": "LNGyb39UVZrA",
        "colab": {
          "base_uri": "https://localhost:8080/",
          "height": 592
        },
        "outputId": "a27f2788-b205-44b1-ab39-7c3a5e69a752"
      },
      "source": [
        "img = np.squeeze(images[18])\n",
        "fig= plt.figure(figsize=(10,10))\n",
        "ax=fig.add_subplot(111)\n",
        "ax.imshow(img,cmap='gray')\n",
        "width, height = img.shape\n",
        "tresh=img.max()/2.5\n",
        "\n",
        "for x in range(width):\n",
        "  for y in range(height):\n",
        "    val=round(img[x][y], 1) if img[x][y] !=0 else 0\n",
        "    ax.annotate(str(val), xy=(y,x), horizontalalignment='center', verticalalignment='center', color='white' if img[x][y]<tresh else 'black')\n",
        "\n",
        "\n"
      ],
      "execution_count": null,
      "outputs": [
        {
          "output_type": "display_data",
          "data": {
            "image/png": "[encoded data removed]",
            "text/plain": [
              "<Figure size 720x720 with 1 Axes>"
            ]
          },
          "metadata": {
            "needs_background": "light"
          }
        }
      ]
    },
    {
      "cell_type": "markdown",
      "metadata": {
        "id": "xzueYKsUXETn"
      },
      "source": [
        "## 2- Multi-Layer Perceptron (MLP) <a class=\"anchor\" id=\"section_2\"></a>"
      ]
    },
    {
      "cell_type": "markdown",
      "metadata": {
        "id": "EUPtjgPfNgRI"
      },
      "source": [
        "First, let us use a multi-layer perceptron (MLP) to automatically classify Fashion-MNIST images."
      ]
    },
    {
      "cell_type": "markdown",
      "metadata": {
        "id": "U0TzO_b4L8ie"
      },
      "source": [
        "#### **Question 2.1** - Define a MPL architecture with (at least) 2 fully-connected as well as dropout layers. <a class=\"anchor\" id=\"question_2_1\"></a>"
      ]
    },
    {
      "cell_type": "code",
      "metadata": {
        "id": "dINfBNnyWtia"
      },
      "source": [
        "import torch.nn as nn\n",
        "import torch.nn.functional as F\n",
        "\n",
        "class MLP(nn.Module): \n",
        "    def __init__(self, in_features, out_features, n_hidden): \n",
        "      super(MLP,self).__init__()\n",
        "      self.in_features=in_features\n",
        "      self.Block1=nn.Sequential(nn.Linear(in_features, n_hidden),\n",
        "                                nn.Dropout())\n",
        "      self.Block2=nn.Sequential(nn.Linear(n_hidden, n_hidden),\n",
        "                                nn.Dropout())\n",
        "      self.Block3=nn.Linear(n_hidden, out_features)\n",
        "\n",
        "    def forward(self,x): \n",
        "      x=x.view(-1,self.in_features)\n",
        "      x=F.relu(self.Block1(x))\n",
        "      x=F.relu(self.Block2(x))\n",
        "      x=F.softmax(self.Block3(x))\n",
        "      \n",
        "      return x"
      ],
      "execution_count": null,
      "outputs": []
    },
    {
      "cell_type": "markdown",
      "metadata": {
        "id": "NO-JtjSqMfYd"
      },
      "source": [
        "#### **Question 2.2** - Train the pre-defined MPL network with cross entropy as loss function and stochastic gradient descent as optimization algorithm. <a class=\"anchor\" id=\"question_2_2\"></a>"
      ]
    },
    {
      "cell_type": "code",
      "metadata": {
        "id": "giapBUp2WyDP",
        "colab": {
          "base_uri": "https://localhost:8080/"
        },
        "outputId": "1f14abcc-8dc7-4799-f7f9-c681a6796de6"
      },
      "source": [
        "device = torch.device('cuda' if torch.cuda.is_available() else 'cpu')\n",
        "print('Using device '+str(device))"
      ],
      "execution_count": null,
      "outputs": [
        {
          "output_type": "stream",
          "name": "stdout",
          "text": [
            "Using device cuda\n"
          ]
        }
      ]
    },
    {
      "cell_type": "code",
      "metadata": {
        "id": "cNo6rTeSW0tu",
        "colab": {
          "base_uri": "https://localhost:8080/"
        },
        "outputId": "81ecbb54-362d-4397-cc92-aa4d07b6ac3b"
      },
      "source": [
        "model_1 = MLP(28**2,10,512)\n",
        "model_1.to(device=device)"
      ],
      "execution_count": null,
      "outputs": [
        {
          "output_type": "execute_result",
          "data": {
            "text/plain": [
              "MLP(\n",
              "  (Block1): Sequential(\n",
              "    (0): Linear(in_features=784, out_features=512, bias=True)\n",
              "    (1): Dropout(p=0.5, inplace=False)\n",
              "  )\n",
              "  (Block2): Sequential(\n",
              "    (0): Linear(in_features=512, out_features=512, bias=True)\n",
              "    (1): Dropout(p=0.5, inplace=False)\n",
              "  )\n",
              "  (Block3): Linear(in_features=512, out_features=10, bias=True)\n",
              ")"
            ]
          },
          "metadata": {},
          "execution_count": 43
        }
      ]
    },
    {
      "cell_type": "code",
      "metadata": {
        "id": "JDzdk4tCW3B0"
      },
      "source": [
        "#DEFINE THE CRITERION\n",
        "criterion = nn.CrossEntropyLoss()"
      ],
      "execution_count": null,
      "outputs": []
    },
    {
      "cell_type": "code",
      "metadata": {
        "id": "7CbSk112W40e"
      },
      "source": [
        "#DEFINE THE OPTIMIZER\n",
        "optimizer = torch.optim.SGD(model_1.parameters(), lr = 0.01)"
      ],
      "execution_count": null,
      "outputs": []
    },
    {
      "cell_type": "code",
      "metadata": {
        "id": "3o9SW-i5W7OU"
      },
      "source": [
        "n_epochs = 30\n",
        "\n",
        "def training(n_epochs, train_loader, valid_loader, model, criterion, optimizer):\n",
        "\n",
        "  train_losses, valid_losses = [], []\n",
        "  valid_loss_min = np.Inf\n",
        "\n",
        "  for epoch in range(n_epochs):\n",
        "      train_loss, valid_loss = 0, 0\n",
        "      model.train()\n",
        "\n",
        "      for data, label in train_loader:\n",
        "          data = data.to(device=device, dtype=torch.float32)\n",
        "          label = label.to(device=device, dtype=torch.long)\n",
        "\n",
        "          optimizer.zero_grad()\n",
        "          output=model(data)\n",
        "          loss = criterion(output, label)\n",
        "          loss.backward()\n",
        "          optimizer.step()\n",
        "          train_loss+=loss.item()*data.size(0)\n",
        "          \n",
        "      model.eval()\n",
        "      for data, label in valid_loader:\n",
        "          data = data.to(device=device, dtype=torch.float32)\n",
        "          label = label.to(device=device, dtype=torch.long)\n",
        "\n",
        "          with torch.no_grad(): \n",
        "            output=model(data)\n",
        "\n",
        "          loss = criterion(output, label)\n",
        "          valid_loss+=loss.item()*data.size(0)\n",
        "            \n",
        "      train_loss /= len(train_loader.sampler)\n",
        "      valid_loss /= len(valid_loader.sampler)\n",
        "      train_losses.append(train_loss)\n",
        "      valid_losses.append(valid_loss)\n",
        "      \n",
        "      print('epoch: {} \\ttraining Loss: {:.6f} \\tvalidation Loss: {:.6f}'.format(epoch+1, train_loss, valid_loss))\n",
        "\n",
        "      if valid_loss <= valid_loss_min:\n",
        "          print('validation loss decreased ({:.6f} --> {:.6f}).  Saving model ...'.format(\n",
        "          valid_loss_min,\n",
        "          valid_loss))\n",
        "          torch.save(model.state_dict(), 'model.pt')\n",
        "          valid_loss_min = valid_loss\n",
        "      \n",
        "  return train_losses, valid_losses      "
      ],
      "execution_count": null,
      "outputs": []
    },
    {
      "cell_type": "code",
      "metadata": {
        "id": "BgB8EpTNW_z3",
        "colab": {
          "base_uri": "https://localhost:8080/"
        },
        "outputId": "2bad7ac7-fa59-4c44-9ee7-ad80f8d66429"
      },
      "source": [
        "#RUN THE TRAINING FUNCTION\n",
        "train_losses_1, valid_losses_1 = training(n_epochs, train_loader, valid_loader, model_1, criterion, optimizer)"
      ],
      "execution_count": null,
      "outputs": [
        {
          "metadata": {
            "tags": null
          },
          "name": "stderr",
          "output_type": "stream",
          "text": [
            "/usr/local/lib/python3.7/dist-packages/ipykernel_launcher.py:18: UserWarning: Implicit dimension choice for softmax has been deprecated. Change the call to include dim=X as an argument.\n"
          ]
        },
        {
          "output_type": "stream",
          "name": "stdout",
          "text": [
            "epoch: 1 \ttraining Loss: 2.260081 \tvalidation Loss: 2.128460\n",
            "validation loss decreased (inf --> 2.128460).  Saving model ...\n",
            "epoch: 2 \ttraining Loss: 1.979688 \tvalidation Loss: 1.838715\n",
            "validation loss decreased (2.128460 --> 1.838715).  Saving model ...\n",
            "epoch: 3 \ttraining Loss: 1.828635 \tvalidation Loss: 1.779617\n",
            "validation loss decreased (1.838715 --> 1.779617).  Saving model ...\n",
            "epoch: 4 \ttraining Loss: 1.778438 \tvalidation Loss: 1.740539\n",
            "validation loss decreased (1.779617 --> 1.740539).  Saving model ...\n",
            "epoch: 5 \ttraining Loss: 1.742354 \tvalidation Loss: 1.714272\n",
            "validation loss decreased (1.740539 --> 1.714272).  Saving model ...\n",
            "epoch: 6 \ttraining Loss: 1.717766 \tvalidation Loss: 1.697570\n",
            "validation loss decreased (1.714272 --> 1.697570).  Saving model ...\n",
            "epoch: 7 \ttraining Loss: 1.704135 \tvalidation Loss: 1.689104\n",
            "validation loss decreased (1.697570 --> 1.689104).  Saving model ...\n",
            "epoch: 8 \ttraining Loss: 1.695744 \tvalidation Loss: 1.683268\n",
            "validation loss decreased (1.689104 --> 1.683268).  Saving model ...\n",
            "epoch: 9 \ttraining Loss: 1.687678 \tvalidation Loss: 1.677984\n",
            "validation loss decreased (1.683268 --> 1.677984).  Saving model ...\n",
            "epoch: 10 \ttraining Loss: 1.683470 \tvalidation Loss: 1.674074\n",
            "validation loss decreased (1.677984 --> 1.674074).  Saving model ...\n",
            "epoch: 11 \ttraining Loss: 1.678926 \tvalidation Loss: 1.670985\n",
            "validation loss decreased (1.674074 --> 1.670985).  Saving model ...\n",
            "epoch: 12 \ttraining Loss: 1.675394 \tvalidation Loss: 1.671889\n",
            "epoch: 13 \ttraining Loss: 1.672041 \tvalidation Loss: 1.665592\n",
            "validation loss decreased (1.670985 --> 1.665592).  Saving model ...\n",
            "epoch: 14 \ttraining Loss: 1.669300 \tvalidation Loss: 1.665215\n",
            "validation loss decreased (1.665592 --> 1.665215).  Saving model ...\n",
            "epoch: 15 \ttraining Loss: 1.666915 \tvalidation Loss: 1.662414\n",
            "validation loss decreased (1.665215 --> 1.662414).  Saving model ...\n",
            "epoch: 16 \ttraining Loss: 1.664712 \tvalidation Loss: 1.662430\n",
            "epoch: 17 \ttraining Loss: 1.662654 \tvalidation Loss: 1.659445\n",
            "validation loss decreased (1.662414 --> 1.659445).  Saving model ...\n",
            "epoch: 18 \ttraining Loss: 1.660906 \tvalidation Loss: 1.658913\n",
            "validation loss decreased (1.659445 --> 1.658913).  Saving model ...\n",
            "epoch: 19 \ttraining Loss: 1.660004 \tvalidation Loss: 1.657265\n",
            "validation loss decreased (1.658913 --> 1.657265).  Saving model ...\n",
            "epoch: 20 \ttraining Loss: 1.658029 \tvalidation Loss: 1.658250\n",
            "epoch: 21 \ttraining Loss: 1.656018 \tvalidation Loss: 1.656057\n",
            "validation loss decreased (1.657265 --> 1.656057).  Saving model ...\n",
            "epoch: 22 \ttraining Loss: 1.654201 \tvalidation Loss: 1.653784\n",
            "validation loss decreased (1.656057 --> 1.653784).  Saving model ...\n",
            "epoch: 23 \ttraining Loss: 1.653651 \tvalidation Loss: 1.653339\n",
            "validation loss decreased (1.653784 --> 1.653339).  Saving model ...\n",
            "epoch: 24 \ttraining Loss: 1.652266 \tvalidation Loss: 1.653353\n",
            "epoch: 25 \ttraining Loss: 1.650675 \tvalidation Loss: 1.651814\n",
            "validation loss decreased (1.653339 --> 1.651814).  Saving model ...\n",
            "epoch: 26 \ttraining Loss: 1.650207 \tvalidation Loss: 1.650886\n",
            "validation loss decreased (1.651814 --> 1.650886).  Saving model ...\n",
            "epoch: 27 \ttraining Loss: 1.649545 \tvalidation Loss: 1.649287\n",
            "validation loss decreased (1.650886 --> 1.649287).  Saving model ...\n",
            "epoch: 28 \ttraining Loss: 1.649049 \tvalidation Loss: 1.649462\n",
            "epoch: 29 \ttraining Loss: 1.647785 \tvalidation Loss: 1.648427\n",
            "validation loss decreased (1.649287 --> 1.648427).  Saving model ...\n",
            "epoch: 30 \ttraining Loss: 1.645910 \tvalidation Loss: 1.648084\n",
            "validation loss decreased (1.648427 --> 1.648084).  Saving model ...\n"
          ]
        }
      ]
    },
    {
      "cell_type": "markdown",
      "metadata": {
        "id": "x6aBlyHlNQY6"
      },
      "source": [
        "#### **Question 2.3** - Plot the evolution of the loss function for both training and validation sets with respect to epochs to study the convergence of the training process. <a class=\"anchor\" id=\"question_2_3\"></a>"
      ]
    },
    {
      "cell_type": "code",
      "metadata": {
        "id": "R351wDBMNOn1",
        "colab": {
          "base_uri": "https://localhost:8080/",
          "height": 310
        },
        "outputId": "56c0ee3e-9548-44dc-bfb0-699b7d3fc4f9"
      },
      "source": [
        "plt.plot(range(n_epochs), train_losses_1)\n",
        "plt.plot(range(n_epochs), valid_losses_1)\n",
        "plt.legend(['train', 'validation'], prop={'size': 10})\n",
        "plt.title('loss function', size=10)\n",
        "plt.xlabel('epoch', size=10)\n",
        "plt.ylabel('loss value', size=10)"
      ],
      "execution_count": null,
      "outputs": [
        {
          "output_type": "execute_result",
          "data": {
            "text/plain": [
              "Text(0, 0.5, 'loss value')"
            ]
          },
          "metadata": {},
          "execution_count": 76
        },
        {
          "output_type": "display_data",
          "data": {
            "image/png": "[encoded data removed]",
            "text/plain": [
              "<Figure size 432x288 with 1 Axes>"
            ]
          },
          "metadata": {
            "needs_background": "light"
          }
        }
      ]
    },
    {
      "cell_type": "markdown",
      "metadata": {
        "id": "pzHWwaVBOSvk"
      },
      "source": [
        "Let us load the model corresponding to the lowest validation loss."
      ]
    },
    {
      "cell_type": "code",
      "metadata": {
        "id": "s6t9aHVqOVXX",
        "colab": {
          "base_uri": "https://localhost:8080/"
        },
        "outputId": "951faba8-500c-4e43-82d9-616c57b9b19e"
      },
      "source": [
        "model_1.load_state_dict(torch.load('model.pt', map_location=device))"
      ],
      "execution_count": null,
      "outputs": [
        {
          "output_type": "execute_result",
          "data": {
            "text/plain": [
              "<All keys matched successfully>"
            ]
          },
          "metadata": {},
          "execution_count": 77
        }
      ]
    },
    {
      "cell_type": "markdown",
      "metadata": {
        "id": "SugKLtJ3OtnD"
      },
      "source": [
        "#### **Question 2.4** - Test the best model on (unseen) test data and evaluate it’s performance in terms of overall and per-class accuracy scores. <a class=\"anchor\" id=\"question_2_4\"></a>"
      ]
    },
    {
      "cell_type": "code",
      "metadata": {
        "id": "aPHP7KUzOa4W"
      },
      "source": [
        "def evaluation(model, test_loader, criterion): \n",
        "\n",
        "  test_loss = 0.0\n",
        "  class_correct = list(0. for i in range(10))\n",
        "  class_total = list(0. for i in range(10))\n",
        "\n",
        "  model.eval()\n",
        "  for data, label in test_loader:\n",
        "      data = data.to(device=device, dtype=torch.float32)\n",
        "      label = label.to(device=device, dtype=torch.long)\n",
        "      with torch.no_grad():\n",
        "          output = model(data)\n",
        "      loss = criterion(output, label)\n",
        "      test_loss += loss.item()*data.size(0)\n",
        "      _, pred = torch.max(output, 1)\n",
        "      correct = np.squeeze(pred.eq(label.data.view_as(pred)))\n",
        "      for i in range(len(label)):\n",
        "          digit = label.data[i]\n",
        "          class_correct[digit] += correct[i].item()\n",
        "          class_total[digit] += 1\n",
        "\n",
        "  test_loss = test_loss/len(test_loader.sampler)\n",
        "  print('test Loss: {:.6f}\\n'.format(test_loss))\n",
        "  for i in range(10):\n",
        "      print('test accuracy of %s: %2d%% (%2d/%2d)' % (class_names[i], 100 * class_correct[i] / class_total[i], np.sum(class_correct[i]), np.sum(class_total[i])))\n",
        "  print('\\ntest accuracy (overall): %2.2f%% (%2d/%2d)' % (100. * np.sum(class_correct) / np.sum(class_total), np.sum(class_correct), np.sum(class_total)))"
      ],
      "execution_count": null,
      "outputs": []
    },
    {
      "cell_type": "code",
      "metadata": {
        "id": "8zrXIcS0OiSm",
        "colab": {
          "base_uri": "https://localhost:8080/"
        },
        "outputId": "395474a1-aae8-4d96-db12-c877c264017e"
      },
      "source": [
        "#RUN THE EVALUATION FUNCTION\n",
        "evaluation(model_1, test_loader, criterion) "
      ],
      "execution_count": null,
      "outputs": [
        {
          "output_type": "stream",
          "name": "stderr",
          "text": [
            "/usr/local/lib/python3.7/dist-packages/ipykernel_launcher.py:18: UserWarning: Implicit dimension choice for softmax has been deprecated. Change the call to include dim=X as an argument.\n"
          ]
        },
        {
          "output_type": "stream",
          "name": "stdout",
          "text": [
            "test Loss: 1.650454\n",
            "\n",
            "test accuracy of T-shirt/top: 90% (909/1000)\n",
            "test accuracy of Trouser: 94% (945/1000)\n",
            "test accuracy of Pullover: 81% (814/1000)\n",
            "test accuracy of Dress: 86% (863/1000)\n",
            "test accuracy of Coat: 83% (835/1000)\n",
            "test accuracy of Sandal: 91% (917/1000)\n",
            "test accuracy of Shirt:  0% ( 0/1000)\n",
            "test accuracy of Sneaker: 93% (935/1000)\n",
            "test accuracy of Bag: 96% (964/1000)\n",
            "test accuracy of Ankle boot: 94% (945/1000)\n",
            "\n",
            "test accuracy (overall): 81.27% (8127/10000)\n"
          ]
        }
      ]
    },
    {
      "cell_type": "markdown",
      "metadata": {
        "id": "q1WGJUCGPa4E"
      },
      "source": [
        "#### **Question 2.5** - Visualize some incorrect predictions by displaying test images and labels in the format: \"predicted (ground-truth)\". <a class=\"anchor\" id=\"question_2_5\"></a>"
      ]
    },
    {
      "cell_type": "code",
      "metadata": {
        "id": "pXY4sJHpPjHu"
      },
      "source": [
        "def get_all_prediction(model, loader): \n",
        "    preds = torch.tensor([], dtype=torch.long)\n",
        "    targets = torch.tensor([], dtype=torch.long)\n",
        "    for data, label in loader:\n",
        "        data = data.to(device=device, dtype=torch.float32)\n",
        "        label = label.to(device=device, dtype=torch.long)\n",
        "        with torch.no_grad():\n",
        "            output = model(data)\n",
        "        targets = torch.cat((targets, label.cpu()), dim = 0)\n",
        "        preds = torch.cat((preds, torch.max(output.cpu(), 1)[1]), dim = 0)\n",
        "    return targets.numpy(), preds.numpy()"
      ],
      "execution_count": null,
      "outputs": []
    },
    {
      "cell_type": "code",
      "metadata": {
        "id": "O166AkLrPlcW",
        "colab": {
          "base_uri": "https://localhost:8080/"
        },
        "outputId": "2ecb793b-5d1c-44d3-e4dd-440eb552eba6"
      },
      "source": [
        "#RUN THE GET_ALL_PREDICTION FUNCTION\n",
        "targets, preds_1 =  get_all_prediction(model_1, test_loader)"
      ],
      "execution_count": null,
      "outputs": [
        {
          "output_type": "stream",
          "name": "stderr",
          "text": [
            "/usr/local/lib/python3.7/dist-packages/ipykernel_launcher.py:18: UserWarning: Implicit dimension choice for softmax has been deprecated. Change the call to include dim=X as an argument.\n"
          ]
        }
      ]
    },
    {
      "cell_type": "code",
      "metadata": {
        "id": "wPXUvq89PpJs",
        "colab": {
          "base_uri": "https://localhost:8080/",
          "height": 264
        },
        "outputId": "ae214bff-43b7-4f23-ca77-b630115b17cb"
      },
      "source": [
        "index = np.where(preds_1 - targets != 0)[0]\n",
        "test_set_array = test_data.data.numpy()\n",
        "plt.figure(figsize=(25, 4))\n",
        "for i in range(20):\n",
        "  plt.subplot(2, 10, i + 1)\n",
        "  plt.axis('off')\n",
        "  plt.imshow(test_set_array[index[i],:,:], cmap='gray')\n",
        "  plt.title(\"{} ({})\".format(str(np.int(preds_1[index[i]])), str(np.int(targets[index[i]]))),color=(\"red\"))\n",
        "plt.show()"
      ],
      "execution_count": null,
      "outputs": [
        {
          "output_type": "display_data",
          "data": {
            "image/png": "[encoded data removed]",
            "text/plain": [
              "<Figure size 1800x288 with 20 Axes>"
            ]
          },
          "metadata": {
            "needs_background": "light"
          }
        }
      ]
    },
    {
      "cell_type": "markdown",
      "metadata": {
        "id": "-Cxu0TluQyzr"
      },
      "source": [
        "## 3- Convolutional neural network (CNN) <a class=\"anchor\" id=\"section_3\"></a>"
      ]
    },
    {
      "cell_type": "markdown",
      "metadata": {
        "id": "wGj9H4C2qB9o"
      },
      "source": [
        "Let us now switch from MLP to convolutional neural network (CNN) to classify Fashion-MNIST images."
      ]
    },
    {
      "cell_type": "markdown",
      "metadata": {
        "id": "3hBIkaLZqPT8"
      },
      "source": [
        "#### **Question 3.1** - Define a CNN architecture using (at least) 2 patterns [CONV - CONV - POOL] as well as dropout and fully-connected layers. <a class=\"anchor\" id=\"question_3_1\"></a>\n",
        "\n",
        "<br/>\n",
        "On s'est inspiré de l'architecure LeNet-5 de Yann Lecun pour créer le modèle."
      ]
    },
    {
      "cell_type": "code",
      "metadata": {
        "id": "vwKgvoRzo8U8"
      },
      "source": [
        "class CNN(nn.Module):\n",
        "\n",
        "    def __init__(self): # FUNCTION TO BE COMPLETED\n",
        "        super(CNN,self).__init__()\n",
        "np.stack((img,)*3, axis=-1)annels=16,\n",
        "                                            kernel_size=5,\n",
        "                                            stride=1),\n",
        "                                  nn.Tanh(),\n",
        "                                  nn.AvgPool2d(kernel_size=2),\n",
        "                                  nn.Conv2d(in_channels=16,\n",
        "                                            out_channels=120,\n",
        "                                            kernel_size=5,\n",
        "                                            stride=1),\n",
        "                                  nn.Tanh())\n",
        "        self.Dropout=nn.Dropout(0.2)\n",
        "        self.Block2 = nn.Sequential(\n",
        "            nn.Linear(in_features=120, out_features=84),\n",
        "            nn.Tanh(),\n",
        "            nn.Linear(in_features=84, out_features=10),\n",
        "        )\n",
        "        \n",
        "    def forward(self,x): # FUNCTION TO BE COMPLETED\n",
        "\n",
        "        x = self.Block1(x)\n",
        "        x = self.Dropout(torch.flatten(x, 1))\n",
        "        x = self.Block2(x)\n",
        "        x = F.softmax(x, dim=1)\n",
        "\n",
        "        return x"
      ],
      "execution_count": null,
      "outputs": []
    },
    {
      "cell_type": "markdown",
      "metadata": {
        "id": "P_0ugLPcq85z"
      },
      "source": [
        "#### **Question 3.2** - Describe input/output sizes of each layer using summary() from torchsummary. <a class=\"anchor\" id=\"question_3_2\"></a>"
      ]
    },
    {
      "cell_type": "code",
      "metadata": {
        "id": "leLg7Xq4pWjK",
        "colab": {
          "base_uri": "https://localhost:8080/"
        },
        "outputId": "2cb8420d-a2c3-437b-e594-d8d2a9dc4146"
      },
      "source": [
        "from torchsummary import summary\n",
        "\n",
        "model_2 = CNN()\n",
        "model_2.to(device=device)\n"
      ],
      "execution_count": null,
      "outputs": [
        {
          "output_type": "execute_result",
          "data": {
            "text/plain": [
              "CNN(\n",
              "  (Block1): Sequential(\n",
              "    (0): Conv2d(1, 6, kernel_size=(5, 5), stride=(1, 1), padding=(2, 2))\n",
              "    (1): Tanh()\n",
              "    (2): AvgPool2d(kernel_size=2, stride=2, padding=0)\n",
              "    (3): Conv2d(6, 16, kernel_size=(5, 5), stride=(1, 1))\n",
              "    (4): Tanh()\n",
              "    (5): AvgPool2d(kernel_size=2, stride=2, padding=0)\n",
              "    (6): Conv2d(16, 120, kernel_size=(5, 5), stride=(1, 1))\n",
              "    (7): Tanh()\n",
              "  )\n",
              "  (Dropout): Dropout(p=0.2, inplace=False)\n",
              "  (Block2): Sequential(\n",
              "    (0): Linear(in_features=120, out_features=84, bias=True)\n",
              "    (1): Tanh()\n",
              "    (2): Linear(in_features=84, out_features=10, bias=True)\n",
              "  )\n",
              ")"
            ]
          },
          "metadata": {},
          "execution_count": 122
        }
      ]
    },
    {
      "cell_type": "markdown",
      "metadata": {
        "id": "Bj1lASDJrLFt"
      },
      "source": [
        "#### **Question 3.3** - Train the pre-defined CNN network with cross entropy as loss function and stochastic gradient descent as optimization algorithm. <a class=\"anchor\" id=\"question_3_3\"></a>"
      ]
    },
    {
      "cell_type": "code",
      "metadata": {
        "id": "GuzMhjqwpeo-"
      },
      "source": [
        "#DEFINE THE OPTIMIZER\n",
        "optimizer = torch.optim.Adam(model_2.parameters(), lr=0.001)"
      ],
      "execution_count": null,
      "outputs": []
    },
    {
      "cell_type": "code",
      "metadata": {
        "id": "w6LQ523QpmVY",
        "colab": {
          "base_uri": "https://localhost:8080/"
        },
        "outputId": "16cf1ea6-eb98-434c-8f85-4c8c4084ff41"
      },
      "source": [
        "#RUN THE TRAINING FUNCTION\n",
        "train_losses_2, valid_losses_2 = training(n_epochs, train_loader, valid_loader, model_2, criterion, optimizer)"
      ],
      "execution_count": null,
      "outputs": [
        {
          "output_type": "stream",
          "name": "stdout",
          "text": [
            "epoch: 1 \ttraining Loss: 1.719285 \tvalidation Loss: 1.658621\n",
            "validation loss decreased (inf --> 1.658621).  Saving model ...\n",
            "epoch: 2 \ttraining Loss: 1.641681 \tvalidation Loss: 1.629735\n",
            "validation loss decreased (1.658621 --> 1.629735).  Saving model ...\n",
            "epoch: 3 \ttraining Loss: 1.624673 \tvalidation Loss: 1.624595\n",
            "validation loss decreased (1.629735 --> 1.624595).  Saving model ...\n",
            "epoch: 4 \ttraining Loss: 1.614501 \tvalidation Loss: 1.609810\n",
            "validation loss decreased (1.624595 --> 1.609810).  Saving model ...\n",
            "epoch: 5 \ttraining Loss: 1.609070 \tvalidation Loss: 1.609546\n",
            "validation loss decreased (1.609810 --> 1.609546).  Saving model ...\n",
            "epoch: 6 \ttraining Loss: 1.603598 \tvalidation Loss: 1.604272\n",
            "validation loss decreased (1.609546 --> 1.604272).  Saving model ...\n",
            "epoch: 7 \ttraining Loss: 1.598214 \tvalidation Loss: 1.601144\n",
            "validation loss decreased (1.604272 --> 1.601144).  Saving model ...\n",
            "epoch: 8 \ttraining Loss: 1.595631 \tvalidation Loss: 1.606464\n",
            "epoch: 9 \ttraining Loss: 1.593224 \tvalidation Loss: 1.599004\n",
            "validation loss decreased (1.601144 --> 1.599004).  Saving model ...\n",
            "epoch: 10 \ttraining Loss: 1.589206 \tvalidation Loss: 1.599728\n",
            "epoch: 11 \ttraining Loss: 1.587437 \tvalidation Loss: 1.591183\n",
            "validation loss decreased (1.599004 --> 1.591183).  Saving model ...\n",
            "epoch: 12 \ttraining Loss: 1.583693 \tvalidation Loss: 1.592627\n",
            "epoch: 13 \ttraining Loss: 1.582761 \tvalidation Loss: 1.587859\n",
            "validation loss decreased (1.591183 --> 1.587859).  Saving model ...\n",
            "epoch: 14 \ttraining Loss: 1.581031 \tvalidation Loss: 1.589878\n",
            "epoch: 15 \ttraining Loss: 1.579037 \tvalidation Loss: 1.587629\n",
            "validation loss decreased (1.587859 --> 1.587629).  Saving model ...\n",
            "epoch: 16 \ttraining Loss: 1.578072 \tvalidation Loss: 1.587075\n",
            "validation loss decreased (1.587629 --> 1.587075).  Saving model ...\n",
            "epoch: 17 \ttraining Loss: 1.577565 \tvalidation Loss: 1.585500\n",
            "validation loss decreased (1.587075 --> 1.585500).  Saving model ...\n",
            "epoch: 18 \ttraining Loss: 1.576000 \tvalidation Loss: 1.581826\n",
            "validation loss decreased (1.585500 --> 1.581826).  Saving model ...\n",
            "epoch: 19 \ttraining Loss: 1.575679 \tvalidation Loss: 1.582974\n",
            "epoch: 20 \ttraining Loss: 1.573229 \tvalidation Loss: 1.585186\n",
            "epoch: 21 \ttraining Loss: 1.574111 \tvalidation Loss: 1.582444\n",
            "epoch: 22 \ttraining Loss: 1.574082 \tvalidation Loss: 1.586865\n",
            "epoch: 23 \ttraining Loss: 1.571272 \tvalidation Loss: 1.581553\n",
            "validation loss decreased (1.581826 --> 1.581553).  Saving model ...\n",
            "epoch: 24 \ttraining Loss: 1.570996 \tvalidation Loss: 1.588839\n",
            "epoch: 25 \ttraining Loss: 1.570266 \tvalidation Loss: 1.578281\n",
            "validation loss decreased (1.581553 --> 1.578281).  Saving model ...\n",
            "epoch: 26 \ttraining Loss: 1.568691 \tvalidation Loss: 1.580829\n",
            "epoch: 27 \ttraining Loss: 1.569565 \tvalidation Loss: 1.585452\n",
            "epoch: 28 \ttraining Loss: 1.565565 \tvalidation Loss: 1.580494\n",
            "epoch: 29 \ttraining Loss: 1.567992 \tvalidation Loss: 1.582930\n",
            "epoch: 30 \ttraining Loss: 1.567603 \tvalidation Loss: 1.582198\n"
          ]
        }
      ]
    },
    {
      "cell_type": "markdown",
      "metadata": {
        "id": "VENh7bUYrrhP"
      },
      "source": [
        "#### **Question 3.4** - Display in a single graph the loss functions for training and validation sets obtained with both MLP and CNN models. <a class=\"anchor\" id=\"question_3_4\"></a>"
      ]
    },
    {
      "cell_type": "code",
      "metadata": {
        "id": "GvRvEpx4r3Ow",
        "colab": {
          "base_uri": "https://localhost:8080/",
          "height": 310
        },
        "outputId": "aa8a647d-d38c-4da3-f6dc-a8949ed91f29"
      },
      "source": [
        "plt.plot(range(n_epochs), train_losses_1)\n",
        "plt.plot(range(n_epochs), valid_losses_1)\n",
        "plt.plot(range(n_epochs), train_losses_2)\n",
        "plt.plot(range(n_epochs), valid_losses_2)\n",
        "plt.legend(['train_MLP', 'validation_MLP', 'train_CNN', 'validation_CNN'], prop={'size': 10})\n",
        "plt.title('loss function', size=10)\n",
        "plt.xlabel('epoch', size=10)\n",
        "plt.ylabel('loss value', size=10)\n"
      ],
      "execution_count": null,
      "outputs": [
        {
          "output_type": "execute_result",
          "data": {
            "text/plain": [
              "Text(0, 0.5, 'loss value')"
            ]
          },
          "metadata": {},
          "execution_count": 125
        },
        {
          "output_type": "display_data",
          "data": {
            "image/png": "[encoded data removed]",
            "text/plain": [
              "<Figure size 432x288 with 1 Axes>"
            ]
          },
          "metadata": {
            "needs_background": "light"
          }
        }
      ]
    },
    {
      "cell_type": "markdown",
      "metadata": {
        "id": "1C17bsUC1W_Y"
      },
      "source": [
        "As previously, we load the model corresponding to the lowest validation loss."
      ]
    },
    {
      "cell_type": "code",
      "metadata": {
        "id": "qzToZJN3FBbS",
        "colab": {
          "base_uri": "https://localhost:8080/"
        },
        "outputId": "eb0bc551-0e48-4216-dade-eb20f6b38a42"
      },
      "source": [
        "model_2.load_state_dict(torch.load('model.pt', map_location=device))"
      ],
      "execution_count": null,
      "outputs": [
        {
          "output_type": "execute_result",
          "data": {
            "text/plain": [
              "<All keys matched successfully>"
            ]
          },
          "metadata": {},
          "execution_count": 126
        }
      ]
    },
    {
      "cell_type": "markdown",
      "metadata": {
        "id": "qOEIMqQ7scl4"
      },
      "source": [
        "#### **Question 3.5** - Test the model on test data and evaluate it through overall and per-class accuracy scores. Compare these scores with the ones obtained using MLP. <a class=\"anchor\" id=\"question_3_5\"></a>"
      ]
    },
    {
      "cell_type": "code",
      "metadata": {
        "id": "xX3jtWoxsmmc",
        "colab": {
          "base_uri": "https://localhost:8080/"
        },
        "outputId": "fa1f2420-305d-4dde-ad85-acf722b91ffe"
      },
      "source": [
        "#RUN THE EVALUATION FUNCTION\n",
        "evaluation(model_2,test_loader, criterion) "
      ],
      "execution_count": null,
      "outputs": [
        {
          "output_type": "stream",
          "name": "stdout",
          "text": [
            "test Loss: 1.583821\n",
            "\n",
            "test accuracy of T-shirt/top: 86% (868/1000)\n",
            "test accuracy of Trouser: 96% (961/1000)\n",
            "test accuracy of Pullover: 84% (844/1000)\n",
            "test accuracy of Dress: 90% (904/1000)\n",
            "test accuracy of Coat: 77% (779/1000)\n",
            "test accuracy of Sandal: 95% (958/1000)\n",
            "test accuracy of Shirt: 58% (585/1000)\n",
            "test accuracy of Sneaker: 97% (971/1000)\n",
            "test accuracy of Bag: 97% (971/1000)\n",
            "test accuracy of Ankle boot: 93% (937/1000)\n",
            "\n",
            "test accuracy (overall): 87.78% (8778/10000)\n"
          ]
        }
      ]
    },
    {
      "cell_type": "markdown",
      "metadata": {
        "id": "sZvnzHYOv3bs"
      },
      "source": [
        "#### **Question 3.6** - Display CNN results for images whose prediction was incorrect with MLP. Labels should be indicated in the following format: \"CNN label (ground-truth)\" in red if wrong, green otherwise. <a class=\"anchor\" id=\"question_3_6\"></a>"
      ]
    },
    {
      "cell_type": "code",
      "metadata": {
        "id": "zczfDPAVvux_"
      },
      "source": [
        "#RUN THE GET_ALL_PREDICTION FUNCTION\n",
        "targets, preds_2 = get_all_prediction(model_2, test_loader)"
      ],
      "execution_count": null,
      "outputs": []
    },
    {
      "cell_type": "code",
      "metadata": {
        "id": "pUzvJDOZv_lK",
        "colab": {
          "base_uri": "https://localhost:8080/",
          "height": 264
        },
        "outputId": "5a57276d-9dd8-4468-ea35-a289b5619c74"
      },
      "source": [
        "plt.figure(figsize=(25, 4))\n",
        "for i in range(20):\n",
        "    plt.subplot(2, 10, i + 1)\n",
        "    plt.axis('off')\n",
        "    plt.imshow(test_set_array[index[i],:,:], cmap='gray')\n",
        "    plt.title(\"{} ({}) | {}\".format(str(np.int(preds_1[index[i]])), str(np.int(targets[index[i]])), str(np.int(preds_2[index[i]]))), color=(\"green\" if preds_2[index[i]]==targets[index[i]] else \"red\"))\n",
        "plt.show()\n",
        "\n",
        "\n",
        "\n"
      ],
      "execution_count": null,
      "outputs": [
        {
          "output_type": "display_data",
          "data": {
            "image/png": "[encoded data removed]",
            "text/plain": [
              "<Figure size 1800x288 with 20 Axes>"
            ]
          },
          "metadata": {
            "needs_background": "light"
          }
        }
      ]
    },
    {
      "cell_type": "markdown",
      "metadata": {
        "id": "NwWEBlcwvLrW"
      },
      "source": [
        "#### **Question 3.7** - Display the confusion matrix for both MLP and CNN models. <a class=\"anchor\" id=\"question_3_7\"></a>"
      ]
    },
    {
      "cell_type": "code",
      "metadata": {
        "id": "UTp-Kcn5vAz2"
      },
      "source": [
        "from sklearn.metrics import confusion_matrix\n",
        "import itertools\n",
        "\n",
        "def plot_confusion_matrix(cm, classes, normalize=False, title='confusion matrix', cmap=plt.cm.Blues):\n",
        "    # This function prints and plots the confusion matrix. Normalization can be applied by setting `normalize=True`\n",
        "    if normalize:\n",
        "        cm = cm.astype('float') / cm.sum(axis=1)[:, np.newaxis]\n",
        "        print(\"normalized confusion matrix\")\n",
        "    else:\n",
        "        print('confusion matrix, without normalization')\n",
        "\n",
        "    plt.imshow(cm, interpolation='nearest', cmap=cmap)\n",
        "    plt.title(title)\n",
        "    plt.colorbar()\n",
        "    tick_marks = np.arange(len(classes))\n",
        "    plt.xticks(tick_marks, classes, rotation=45)\n",
        "    plt.yticks(tick_marks, classes)\n",
        "\n",
        "    fmt = '.2f' if normalize else 'd'\n",
        "    thresh = cm.max() / 2.\n",
        "    for i, j in itertools.product(range(cm.shape[0]), range(cm.shape[1])):\n",
        "        plt.text(j, i, format(cm[i, j], fmt),\n",
        "                 horizontalalignment=\"center\",\n",
        "                 color=\"white\" if cm[i, j] > thresh else \"black\")\n",
        "\n",
        "    plt.tight_layout()\n",
        "    plt.ylabel('true label')\n",
        "    plt.xlabel('predicted label')"
      ],
      "execution_count": null,
      "outputs": []
    },
    {
      "cell_type": "code",
      "metadata": {
        "id": "WBzaFZDhvCid",
        "colab": {
          "base_uri": "https://localhost:8080/",
          "height": 484
        },
        "outputId": "e3a69602-4847-4269-fdc9-ae75a65c5cde"
      },
      "source": [
        "# compute confusion matrix\n",
        "cnf_matrix_MLP = confusion_matrix(targets, preds_1)\n",
        "cnf_matrix_CNN = confusion_matrix(targets, preds_2)\n",
        "np.set_printoptions(precision=2)\n",
        "\n",
        "# plot normalized confusion matrixes\n",
        "plt.figure(figsize=(14, 6))\n",
        "plt.subplot(1, 2, 1)\n",
        "plot_confusion_matrix(cnf_matrix_MLP, classes=class_names, normalize=True, title='MLP')\n",
        "plt.subplot(1, 2, 2)\n",
        "plot_confusion_matrix(cnf_matrix_CNN, classes=class_names, normalize=True, title='CNN')\n",
        "plt.show()"
      ],
      "execution_count": null,
      "outputs": [
        {
          "output_type": "stream",
          "name": "stdout",
          "text": [
            "normalized confusion matrix\n",
            "normalized confusion matrix\n"
          ]
        },
        {
          "output_type": "display_data",
          "data": {
            "image/png": "[encoded data removed]",
            "text/plain": [
              "<Figure size 1008x432 with 3 Axes>"
            ]
          },
          "metadata": {
            "needs_background": "light"
          }
        }
      ]
    },
    {
      "cell_type": "markdown",
      "metadata": {
        "id": "WbWiLIy2Oaxt"
      },
      "source": [
        "## 4- Transfer learning from ImageNet <a class=\"anchor\" id=\"section_4\"></a>"
      ]
    },
    {
      "cell_type": "markdown",
      "metadata": {
        "id": "2HD_zB8sOnfr"
      },
      "source": [
        "Transfer learning focuses on storing knowledge gained while solving one problem and applying it to a different but related problem."
      ]
    },
    {
      "cell_type": "markdown",
      "metadata": {
        "id": "V_SLC0WRUuEG"
      },
      "source": [
        "Our goal is to use a (well-known) CNN architecture whose weights have been already trained on ImageNet to perform transfer learning and fine tuning. ImageNet is a large visual database designed for visual object recognition purposes wich contains more than 14 million images!"
      ]
    },
    {
      "cell_type": "markdown",
      "metadata": {
        "id": "f9b6NafpUq8P"
      },
      "source": [
        "#### **Question 4.1** - Modify the Fashion-MNIST dataset to make it fit to  ImageNet by extending Fashion-MNIST images from greyscale to 3-channels images. Since the minimal image dimension as inputs of pre-trained CNN models is 48x48, you will also need to resize images. To do so, use transform.Compose(), transforms.Resize() and transforms.Grayscale(). More details on image transformations are available in the [documentation](https://pytorch.org/docs/stable/torchvision/transforms.html). <a class=\"anchor\" id=\"question_4_1\"></a>"
      ]
    },
    {
      "cell_type": "code",
      "metadata": {
        "id": "Il44BSBeQS2I"
      },
      "source": [
        "#CALL transforms.Compose to adapt the dataset to the VGG16 architecture\n",
        "transform =  transforms.Compose([\n",
        "                                 transforms.Grayscale(num_output_channels=3), \n",
        "                                 transforms.Resize((48,48)),\n",
        "                                 transforms.ToTensor()])\n",
        "\n",
        "train_data = datasets.FashionMNIST(root = 'data', train = True, download = True, transform = transform)\n",
        "test_data = datasets.FashionMNIST(root = 'data', train = False, download = True, transform = transform)"
      ],
      "execution_count": null,
      "outputs": []
    },
    {
      "cell_type": "code",
      "metadata": {
        "colab": {
          "base_uri": "https://localhost:8080/"
        },
        "id": "jfZ60em8_Lhe",
        "outputId": "11eb9d76-1548-4a38-d078-bce76ac392c2"
      },
      "source": [
        "print(train_data[0][0].shape)"
      ],
      "execution_count": null,
      "outputs": [
        {
          "output_type": "stream",
          "name": "stdout",
          "text": [
            "torch.Size([3, 48, 48])\n"
          ]
        }
      ]
    },
    {
      "cell_type": "markdown",
      "metadata": {
        "id": "jigD05BKXbSu"
      },
      "source": [
        "#### **Question 4.2** - Create training, validation and test data loaders. Check the dimensions of images arising from the modified Fasion-MNIST dataset. <a class=\"anchor\" id=\"question_4_2\"></a>"
      ]
    },
    {
      "cell_type": "code",
      "metadata": {
        "id": "81GaRvq4Pisu",
        "colab": {
          "base_uri": "https://localhost:8080/"
        },
        "outputId": "60d67955-b8b5-4d40-b6aa-d54596797f09"
      },
      "source": [
        "# CELL TO BE COMPLETED\n",
        "train_loader, valid_loader, test_loader = create_data_loaders(batch_size, valid_size, train_data, test_data)\n",
        "data_iter = iter(train_loader)\n",
        "images, labels = data_iter.next()\n",
        "print(images.numpy().shape)"
      ],
      "execution_count": null,
      "outputs": [
        {
          "output_type": "stream",
          "name": "stdout",
          "text": [
            "(20, 3, 48, 48)\n"
          ]
        }
      ]
    },
    {
      "cell_type": "markdown",
      "metadata": {
        "id": "b3j7Kt8BPPoC"
      },
      "source": [
        "#### **Question 4.3** - Exploit a vgg16 architecture ([related paper](https://arxiv.org/pdf/1409.1556.pdf)) pre-trained on ImageNet to improve the classification scores on Fashion-MNIST through fine-tuning. See the [documentation](https://pytorch.org/docs/stable/torchvision/models.html) for further details. Use summary() from torchsummary to describe each of the vgg16 layers. To avoid a too long learning time, you may use only 5 epochs during fine-tuning. <a class=\"anchor\" id=\"question_4_3\"></a>"
      ]
    },
    {
      "cell_type": "code",
      "metadata": {
        "id": "1Vkf-UjXPis4",
        "colab": {
          "base_uri": "https://localhost:8080/",
          "height": 1000,
          "referenced_widgets": [
            "f004f11fb0d7484f9767822e0e9da9a6",
            "9295a02cda194db793091a39c09b5e73",
            "ea04939f76ab4de09e763ec79956bc2f",
            "40fc070a2b834b758c79c088e963e0bf",
            "a6e467a61acd4588be861f6097570de5",
            "805c167d4c7c4cd38f5fa7e52c69f9b6",
            "f4544ebb15b845f9aee208566cc8bcc0",
            "e5cfddcd6a484450ab779de719b8a871",
            "6070a142886a4ee29813e3f4bd6cc4c6",
            "2b8a5b73d26b4e43bf2a92269985af24",
            "259ad72d222d4670b93330842129c982"
          ]
        },
        "outputId": "237520b3-58c2-48ec-b166-4f5b9916984a"
      },
      "source": [
        "import torchvision.models as models\n",
        "\n",
        "model_3 = models.vgg16_bn(pretrained=True)\n",
        "model_3.to(device=device)\n",
        "summary(model_3, (3, 48, 48))"
      ],
      "execution_count": null,
      "outputs": [
        {
          "output_type": "stream",
          "name": "stderr",
          "text": [
            "Downloading: \"https://download.pytorch.org/models/vgg16_bn-6c64b313.pth\" to /root/.cache/torch/hub/checkpoints/vgg16_bn-6c64b313.pth\n"
          ]
        },
        {
          "output_type": "display_data",
          "data": {
            "application/vnd.jupyter.widget-view+json": {
              "model_id": "f004f11fb0d7484f9767822e0e9da9a6",
              "version_minor": 0,
              "version_major": 2
            },
            "text/plain": [
              "  0%|          | 0.00/528M [00:00<?, ?B/s]"
            ]
          },
          "metadata": {}
        },
        {
          "output_type": "stream",
          "name": "stdout",
          "text": [
            "----------------------------------------------------------------\n",
            "        Layer (type)               Output Shape         Param #\n",
            "================================================================\n",
            "            Conv2d-1           [-1, 64, 48, 48]           1,792\n",
            "       BatchNorm2d-2           [-1, 64, 48, 48]             128\n",
            "              ReLU-3           [-1, 64, 48, 48]               0\n",
            "            Conv2d-4           [-1, 64, 48, 48]          36,928\n",
            "       BatchNorm2d-5           [-1, 64, 48, 48]             128\n",
            "              ReLU-6           [-1, 64, 48, 48]               0\n",
            "         MaxPool2d-7           [-1, 64, 24, 24]               0\n",
            "            Conv2d-8          [-1, 128, 24, 24]          73,856\n",
            "       BatchNorm2d-9          [-1, 128, 24, 24]             256\n",
            "             ReLU-10          [-1, 128, 24, 24]               0\n",
            "           Conv2d-11          [-1, 128, 24, 24]         147,584\n",
            "      BatchNorm2d-12          [-1, 128, 24, 24]             256\n",
            "             ReLU-13          [-1, 128, 24, 24]               0\n",
            "        MaxPool2d-14          [-1, 128, 12, 12]               0\n",
            "           Conv2d-15          [-1, 256, 12, 12]         295,168\n",
            "      BatchNorm2d-16          [-1, 256, 12, 12]             512\n",
            "             ReLU-17          [-1, 256, 12, 12]               0\n",
            "           Conv2d-18          [-1, 256, 12, 12]         590,080\n",
            "      BatchNorm2d-19          [-1, 256, 12, 12]             512\n",
            "             ReLU-20          [-1, 256, 12, 12]               0\n",
            "           Conv2d-21          [-1, 256, 12, 12]         590,080\n",
            "      BatchNorm2d-22          [-1, 256, 12, 12]             512\n",
            "             ReLU-23          [-1, 256, 12, 12]               0\n",
            "        MaxPool2d-24            [-1, 256, 6, 6]               0\n",
            "           Conv2d-25            [-1, 512, 6, 6]       1,180,160\n",
            "      BatchNorm2d-26            [-1, 512, 6, 6]           1,024\n",
            "             ReLU-27            [-1, 512, 6, 6]               0\n",
            "           Conv2d-28            [-1, 512, 6, 6]       2,359,808\n",
            "      BatchNorm2d-29            [-1, 512, 6, 6]           1,024\n",
            "             ReLU-30            [-1, 512, 6, 6]               0\n",
            "           Conv2d-31            [-1, 512, 6, 6]       2,359,808\n",
            "      BatchNorm2d-32            [-1, 512, 6, 6]           1,024\n",
            "             ReLU-33            [-1, 512, 6, 6]               0\n",
            "        MaxPool2d-34            [-1, 512, 3, 3]               0\n",
            "           Conv2d-35            [-1, 512, 3, 3]       2,359,808\n",
            "      BatchNorm2d-36            [-1, 512, 3, 3]           1,024\n",
            "             ReLU-37            [-1, 512, 3, 3]               0\n",
            "           Conv2d-38            [-1, 512, 3, 3]       2,359,808\n",
            "      BatchNorm2d-39            [-1, 512, 3, 3]           1,024\n",
            "             ReLU-40            [-1, 512, 3, 3]               0\n",
            "           Conv2d-41            [-1, 512, 3, 3]       2,359,808\n",
            "      BatchNorm2d-42            [-1, 512, 3, 3]           1,024\n",
            "             ReLU-43            [-1, 512, 3, 3]               0\n",
            "        MaxPool2d-44            [-1, 512, 1, 1]               0\n",
            "AdaptiveAvgPool2d-45            [-1, 512, 7, 7]               0\n",
            "           Linear-46                 [-1, 4096]     102,764,544\n",
            "             ReLU-47                 [-1, 4096]               0\n",
            "          Dropout-48                 [-1, 4096]               0\n",
            "           Linear-49                 [-1, 4096]      16,781,312\n",
            "             ReLU-50                 [-1, 4096]               0\n",
            "          Dropout-51                 [-1, 4096]               0\n",
            "           Linear-52                 [-1, 1000]       4,097,000\n",
            "================================================================\n",
            "Total params: 138,365,992\n",
            "Trainable params: 138,365,992\n",
            "Non-trainable params: 0\n",
            "----------------------------------------------------------------\n",
            "Input size (MB): 0.03\n",
            "Forward/backward pass size (MB): 15.16\n",
            "Params size (MB): 527.82\n",
            "Estimated Total Size (MB): 543.01\n",
            "----------------------------------------------------------------\n"
          ]
        }
      ]
    },
    {
      "cell_type": "code",
      "metadata": {
        "id": "bt2NYRJERihH"
      },
      "source": [
        "#DEFINE THE OPTIMIZER\n",
        "optimizer = torch.optim.Adam(model_3.parameters(), lr=0.001)"
      ],
      "execution_count": null,
      "outputs": []
    },
    {
      "cell_type": "code",
      "metadata": {
        "id": "hdffyHTmR8MH",
        "colab": {
          "base_uri": "https://localhost:8080/"
        },
        "outputId": "438daa93-c518-4ab2-e086-c09a684b1420"
      },
      "source": [
        "n_epochs = 5\n",
        "#RUN THE TRAINING FUNCTION\n",
        "train_losses_2, valid_losses_2 =training(n_epochs, \n",
        "                                         train_loader, \n",
        "                                         valid_loader, \n",
        "                                         model_3, \n",
        "                                         criterion, \n",
        "                                         optimizer)"
      ],
      "execution_count": null,
      "outputs": [
        {
          "output_type": "stream",
          "name": "stdout",
          "text": [
            "epoch: 1 \ttraining Loss: 0.794256 \tvalidation Loss: 0.435080\n",
            "validation loss decreased (inf --> 0.435080).  Saving model ...\n",
            "epoch: 2 \ttraining Loss: 0.524020 \tvalidation Loss: 0.396757\n",
            "validation loss decreased (0.435080 --> 0.396757).  Saving model ...\n",
            "epoch: 3 \ttraining Loss: 0.416949 \tvalidation Loss: 0.363689\n",
            "validation loss decreased (0.396757 --> 0.363689).  Saving model ...\n",
            "epoch: 4 \ttraining Loss: 0.389806 \tvalidation Loss: 0.293067\n",
            "validation loss decreased (0.363689 --> 0.293067).  Saving model ...\n",
            "epoch: 5 \ttraining Loss: 0.324054 \tvalidation Loss: 0.285495\n",
            "validation loss decreased (0.293067 --> 0.285495).  Saving model ...\n"
          ]
        }
      ]
    },
    {
      "cell_type": "markdown",
      "metadata": {
        "id": "acJYM6QpYVZf"
      },
      "source": [
        "#### **Question 4.4** - Test the model on test data and evaluate it through overall and per-class accuracy scores. Compare these scores with the previously obtained ones. <a class=\"anchor\" id=\"question_4_4\"></a>"
      ]
    },
    {
      "cell_type": "code",
      "metadata": {
        "id": "y03a3KIXYEN-",
        "colab": {
          "base_uri": "https://localhost:8080/"
        },
        "outputId": "adb31756-131b-4914-a90f-5ee0ae7e0f34"
      },
      "source": [
        "model_3.load_state_dict(torch.load('model.pt', map_location=device))"
      ],
      "execution_count": null,
      "outputs": [
        {
          "output_type": "execute_result",
          "data": {
            "text/plain": [
              "<All keys matched successfully>"
            ]
          },
          "metadata": {},
          "execution_count": 137
        }
      ]
    },
    {
      "cell_type": "code",
      "metadata": {
        "id": "rGaCM59eYHsZ",
        "colab": {
          "base_uri": "https://localhost:8080/"
        },
        "outputId": "43063085-4b5e-4b30-83e2-e801f7f14a5d"
      },
      "source": [
        "#RUN THE EVALUATION FUNCTION\n",
        "evaluation(model_3,test_loader, criterion)"
      ],
      "execution_count": null,
      "outputs": [
        {
          "output_type": "stream",
          "name": "stdout",
          "text": [
            "test Loss: 0.309387\n",
            "\n",
            "test accuracy of T-shirt/top: 77% (773/1000)\n",
            "test accuracy of Trouser: 97% (974/1000)\n",
            "test accuracy of Pullover: 88% (882/1000)\n",
            "test accuracy of Dress: 92% (923/1000)\n",
            "test accuracy of Coat: 77% (779/1000)\n",
            "test accuracy of Sandal: 97% (975/1000)\n",
            "test accuracy of Shirt: 83% (835/1000)\n",
            "test accuracy of Sneaker: 98% (984/1000)\n",
            "test accuracy of Bag: 99% (993/1000)\n",
            "test accuracy of Ankle boot: 95% (950/1000)\n",
            "\n",
            "test accuracy (overall): 90.68% (9068/10000)\n"
          ]
        }
      ]
    },
    {
      "cell_type": "markdown",
      "metadata": {
        "id": "di4DPxghSxis"
      },
      "source": [
        "#### **Question 4.5** - Display results for images whose prediction was incorrect with MLP. Labels should be indicated in the following format: \"vgg16 label (ground-truth)\" in red if wrong, green otherwise. <a class=\"anchor\" id=\"question_4_5\"></a>"
      ]
    },
    {
      "cell_type": "code",
      "metadata": {
        "id": "DbqsJZtKYtcQ"
      },
      "source": [
        "#RUN THE GET_ALL_PREDICTION FUNCTION\n",
        "targets, preds_3 = get_all_prediction(model_3, test_loader)"
      ],
      "execution_count": null,
      "outputs": []
    },
    {
      "cell_type": "code",
      "metadata": {
        "id": "oTYP6F6DYxrz",
        "colab": {
          "base_uri": "https://localhost:8080/",
          "height": 264
        },
        "outputId": "f6372f1a-754f-4e35-f62c-dfa42c41ea22"
      },
      "source": [
        "# CELL TO BE COMPLETED\n",
        "\n",
        "plt.figure(figsize=(25, 4))\n",
        "for i in range(20):\n",
        "    plt.subplot(2, 10, i + 1)\n",
        "    plt.axis('off')\n",
        "    plt.imshow(test_set_array[index[i],:,:], cmap='gray')\n",
        "    plt.title(\"{} ({}) | {}\".format(str(np.int(preds_1[index[i]])), str(np.int(targets[index[i]])), str(np.int(preds_3[index[i]]))), color=(\"green\" if preds_3[index[i]]==targets[index[i]] else \"red\"))\n",
        "plt.show()\n"
      ],
      "execution_count": null,
      "outputs": [
        {
          "output_type": "display_data",
          "data": {
            "image/png": "[encoded data removed]",
            "text/plain": [
              "<Figure size 1800x288 with 20 Axes>"
            ]
          },
          "metadata": {
            "needs_background": "light"
          }
        }
      ]
    },
    {
      "cell_type": "markdown",
      "metadata": {
        "id": "raI8_sq9HqTp"
      },
      "source": [
        "## 5- Challenge <a class=\"anchor\" id=\"section_5\"></a>"
      ]
    },
    {
      "cell_type": "markdown",
      "metadata": {
        "id": "w9bUJzMzEfoj"
      },
      "source": [
        "#### **Question 5.1** - What is your best overall test accuracy and with which methodology? The first 3 teams will obtain bonus points! <a class=\"anchor\" id=\"question_5_1\"></a>"
      ]
    }
  ]
}